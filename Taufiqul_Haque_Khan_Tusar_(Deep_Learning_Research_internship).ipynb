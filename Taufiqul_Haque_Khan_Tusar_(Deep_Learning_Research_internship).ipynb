{
  "nbformat": 4,
  "nbformat_minor": 0,
  "metadata": {
    "colab": {
      "name": "Taufiqul Haque Khan Tusar (Deep Learning Research internship).ipynb",
      "provenance": [],
      "collapsed_sections": [],
      "toc_visible": true,
      "authorship_tag": "ABX9TyNh9kVRykuX7w07hRnuMmTx",
      "include_colab_link": true
    },
    "kernelspec": {
      "name": "python3",
      "display_name": "Python 3"
    },
    "language_info": {
      "name": "python"
    }
  },
  "cells": [
    {
      "cell_type": "markdown",
      "metadata": {
        "id": "view-in-github",
        "colab_type": "text"
      },
      "source": [
        "<a href=\"https://colab.research.google.com/github/Muhammad-Taufiq-Khan/DeepLearningResearchIntern-PuchoLifeSciencesInc/blob/main/Taufiqul_Haque_Khan_Tusar_(Deep_Learning_Research_internship).ipynb\" target=\"_parent\"><img src=\"https://colab.research.google.com/assets/colab-badge.svg\" alt=\"Open In Colab\"/></a>"
      ]
    },
    {
      "cell_type": "markdown",
      "metadata": {
        "id": "ot8cu-349gN3"
      },
      "source": [
        "# Loading Dependencies and Dataset"
      ]
    },
    {
      "cell_type": "code",
      "metadata": {
        "id": "70cAxl9czQSs"
      },
      "source": [
        "#Path maintaining\n",
        "from os import path\n",
        " \n",
        "#Data Manipulation \n",
        "import numpy as np\n",
        "import pandas as pd\n",
        " \n",
        "#Data visualization\n",
        "import matplotlib as mpl\n",
        "import matplotlib.pyplot as plt\n",
        "from matplotlib.ticker import (MultipleLocator, FormatStrFormatter,\n",
        "                               AutoMinorLocator)\n",
        "import seaborn as sns \n",
        "sns.set_style(\"white\")\n",
        "sns.set_style(\"ticks\")\n",
        " \n",
        "import plotly.express as px \n",
        " \n",
        "#For Neural Network\n",
        "from keras.models import Sequential\n",
        "from keras.layers import Dense\n",
        " \n",
        "#Encoding \n",
        "from keras.utils import np_utils \n",
        "from sklearn.preprocessing import LabelEncoder\n",
        " \n",
        "#Model Building and Evaluation\n",
        "from sklearn.preprocessing import scale\n",
        "from sklearn.model_selection import train_test_split\n",
        "from sklearn.metrics import accuracy_score"
      ],
      "execution_count": 60,
      "outputs": []
    },
    {
      "cell_type": "code",
      "metadata": {
        "id": "GB874kpG6Qb8"
      },
      "source": [
        " #collapse\n",
        "# import some packages\n",
        "#!/usr/bin/env python3\n",
        "# -*- coding: utf-8 -*-\n",
        "\"\"\"\n",
        "Created on Sun Feb 10, 2020\n",
        "@author: neeks, cmu\n",
        "\"\"\"\n",
        " \n",
        "\n",
        "# urls for csvs\n",
        "# url_metadata_annotations = 'https://raw.githubusercontent.com/iiscleap/Coswara-Exp/master/Annotated_v2/Annotated_v2_ans.csv'\n",
        "url_metadata_recordings = 'https://raw.githubusercontent.com/iiscleap/Coswara-Data/master/combined_data.csv'\n",
        " \n",
        "# path_audio_data = '/Volumes/BackupNeeks/dBase/coswaradBase/annotatedFiles/audio_19Oct2020/'\n",
        "path_store_figure = './figures/'\n",
        "fig_save = 0\n",
        " \n",
        "# load the csvs\n",
        "df_2 = pd.read_csv(url_metadata_recordings) # recording metadata"
      ],
      "execution_count": 61,
      "outputs": []
    },
    {
      "cell_type": "markdown",
      "metadata": {
        "id": "LEbMcyLH91yl"
      },
      "source": [
        "# Exploratory Data Analysis"
      ]
    },
    {
      "cell_type": "code",
      "metadata": {
        "id": "1wx7RUyz97DN",
        "colab": {
          "base_uri": "https://localhost:8080/",
          "height": 1000
        },
        "outputId": "10a610b2-fef4-4d6e-efe7-9bf67123c653"
      },
      "source": [
        "print(\"1. Null values per atribute\")\n",
        "print(df_2.isnull().sum())\n",
        "print('\\n')\n",
        "\n",
        "print(\"2. Unique values per atribute\")\n",
        "for col in df_2.columns:\n",
        "  print(col,\":\",len(df_2[col].unique()))\n",
        "print('\\n')\n",
        "\n",
        "print(\"3. Data types of atributes\")\n",
        "print(df_2.dtypes)\n",
        "print('\\n')\n",
        "\n",
        "print(\"4. Top 3 records\")\n",
        "df_2.head(3)"
      ],
      "execution_count": 62,
      "outputs": [
        {
          "output_type": "stream",
          "text": [
            "1. Null values per atribute\n",
            "id                    0\n",
            "a                     0\n",
            "covid_status          0\n",
            "ep                    0\n",
            "g                     0\n",
            "l_c                   0\n",
            "l_l                 231\n",
            "l_s                   0\n",
            "rU                  680\n",
            "smoker             1660\n",
            "cold               1783\n",
            "ht                 1816\n",
            "diabetes           1825\n",
            "fever              1809\n",
            "asthma             1874\n",
            "um                 1038\n",
            "cough              1702\n",
            "ihd                1936\n",
            "bd                 1871\n",
            "st                 1853\n",
            "ftg                1838\n",
            "mp                 1860\n",
            "loss_of_smell      1884\n",
            "cld                1939\n",
            "test_status        1413\n",
            "diarrhoea          1932\n",
            "pneumonia          1936\n",
            "ctScan             1783\n",
            "testType           1810\n",
            "test_date          1810\n",
            "vacc               1783\n",
            "ctDate             1921\n",
            "ctScore            1921\n",
            "others_resp        1945\n",
            "others_preexist    1933\n",
            "dtype: int64\n",
            "\n",
            "\n",
            "2. Unique values per atribute\n",
            "id : 1947\n",
            "a : 78\n",
            "covid_status : 7\n",
            "ep : 2\n",
            "g : 3\n",
            "l_c : 48\n",
            "l_l : 662\n",
            "l_s : 142\n",
            "rU : 3\n",
            "smoker : 5\n",
            "cold : 2\n",
            "ht : 2\n",
            "diabetes : 2\n",
            "fever : 2\n",
            "asthma : 2\n",
            "um : 3\n",
            "cough : 2\n",
            "ihd : 2\n",
            "bd : 2\n",
            "st : 2\n",
            "ftg : 2\n",
            "mp : 2\n",
            "loss_of_smell : 2\n",
            "cld : 2\n",
            "test_status : 4\n",
            "diarrhoea : 2\n",
            "pneumonia : 2\n",
            "ctScan : 3\n",
            "testType : 4\n",
            "test_date : 52\n",
            "vacc : 4\n",
            "ctDate : 19\n",
            "ctScore : 13\n",
            "others_resp : 2\n",
            "others_preexist : 2\n",
            "\n",
            "\n",
            "3. Data types of atributes\n",
            "id                  object\n",
            "a                    int64\n",
            "covid_status        object\n",
            "ep                  object\n",
            "g                   object\n",
            "l_c                 object\n",
            "l_l                 object\n",
            "l_s                 object\n",
            "rU                  object\n",
            "smoker              object\n",
            "cold                object\n",
            "ht                  object\n",
            "diabetes            object\n",
            "fever               object\n",
            "asthma              object\n",
            "um                  object\n",
            "cough               object\n",
            "ihd                 object\n",
            "bd                  object\n",
            "st                  object\n",
            "ftg                 object\n",
            "mp                  object\n",
            "loss_of_smell       object\n",
            "cld                 object\n",
            "test_status         object\n",
            "diarrhoea           object\n",
            "pneumonia           object\n",
            "ctScan              object\n",
            "testType            object\n",
            "test_date           object\n",
            "vacc                object\n",
            "ctDate              object\n",
            "ctScore            float64\n",
            "others_resp         object\n",
            "others_preexist     object\n",
            "dtype: object\n",
            "\n",
            "\n",
            "4. Top 3 records\n"
          ],
          "name": "stdout"
        },
        {
          "output_type": "execute_result",
          "data": {
            "text/html": [
              "<div>\n",
              "<style scoped>\n",
              "    .dataframe tbody tr th:only-of-type {\n",
              "        vertical-align: middle;\n",
              "    }\n",
              "\n",
              "    .dataframe tbody tr th {\n",
              "        vertical-align: top;\n",
              "    }\n",
              "\n",
              "    .dataframe thead th {\n",
              "        text-align: right;\n",
              "    }\n",
              "</style>\n",
              "<table border=\"1\" class=\"dataframe\">\n",
              "  <thead>\n",
              "    <tr style=\"text-align: right;\">\n",
              "      <th></th>\n",
              "      <th>id</th>\n",
              "      <th>a</th>\n",
              "      <th>covid_status</th>\n",
              "      <th>ep</th>\n",
              "      <th>g</th>\n",
              "      <th>l_c</th>\n",
              "      <th>l_l</th>\n",
              "      <th>l_s</th>\n",
              "      <th>rU</th>\n",
              "      <th>smoker</th>\n",
              "      <th>cold</th>\n",
              "      <th>ht</th>\n",
              "      <th>diabetes</th>\n",
              "      <th>fever</th>\n",
              "      <th>asthma</th>\n",
              "      <th>um</th>\n",
              "      <th>cough</th>\n",
              "      <th>ihd</th>\n",
              "      <th>bd</th>\n",
              "      <th>st</th>\n",
              "      <th>ftg</th>\n",
              "      <th>mp</th>\n",
              "      <th>loss_of_smell</th>\n",
              "      <th>cld</th>\n",
              "      <th>test_status</th>\n",
              "      <th>diarrhoea</th>\n",
              "      <th>pneumonia</th>\n",
              "      <th>ctScan</th>\n",
              "      <th>testType</th>\n",
              "      <th>test_date</th>\n",
              "      <th>vacc</th>\n",
              "      <th>ctDate</th>\n",
              "      <th>ctScore</th>\n",
              "      <th>others_resp</th>\n",
              "      <th>others_preexist</th>\n",
              "    </tr>\n",
              "  </thead>\n",
              "  <tbody>\n",
              "    <tr>\n",
              "      <th>0</th>\n",
              "      <td>iV3Db6t1T8b7c5HQY2TwxIhjbzD3</td>\n",
              "      <td>28</td>\n",
              "      <td>healthy</td>\n",
              "      <td>y</td>\n",
              "      <td>male</td>\n",
              "      <td>India</td>\n",
              "      <td>Anantapur</td>\n",
              "      <td>Andhra Pradesh</td>\n",
              "      <td>n</td>\n",
              "      <td>NaN</td>\n",
              "      <td>NaN</td>\n",
              "      <td>NaN</td>\n",
              "      <td>NaN</td>\n",
              "      <td>NaN</td>\n",
              "      <td>NaN</td>\n",
              "      <td>NaN</td>\n",
              "      <td>NaN</td>\n",
              "      <td>NaN</td>\n",
              "      <td>NaN</td>\n",
              "      <td>NaN</td>\n",
              "      <td>NaN</td>\n",
              "      <td>NaN</td>\n",
              "      <td>NaN</td>\n",
              "      <td>NaN</td>\n",
              "      <td>NaN</td>\n",
              "      <td>NaN</td>\n",
              "      <td>NaN</td>\n",
              "      <td>NaN</td>\n",
              "      <td>NaN</td>\n",
              "      <td>NaN</td>\n",
              "      <td>NaN</td>\n",
              "      <td>NaN</td>\n",
              "      <td>NaN</td>\n",
              "      <td>NaN</td>\n",
              "      <td>NaN</td>\n",
              "    </tr>\n",
              "    <tr>\n",
              "      <th>1</th>\n",
              "      <td>AxuYWBN0jFVLINCBqIW5aZmGCdu1</td>\n",
              "      <td>25</td>\n",
              "      <td>healthy</td>\n",
              "      <td>y</td>\n",
              "      <td>male</td>\n",
              "      <td>India</td>\n",
              "      <td>BENGALURU URBAN</td>\n",
              "      <td>Karnataka</td>\n",
              "      <td>n</td>\n",
              "      <td>True</td>\n",
              "      <td>NaN</td>\n",
              "      <td>NaN</td>\n",
              "      <td>NaN</td>\n",
              "      <td>NaN</td>\n",
              "      <td>NaN</td>\n",
              "      <td>NaN</td>\n",
              "      <td>NaN</td>\n",
              "      <td>NaN</td>\n",
              "      <td>NaN</td>\n",
              "      <td>NaN</td>\n",
              "      <td>NaN</td>\n",
              "      <td>NaN</td>\n",
              "      <td>NaN</td>\n",
              "      <td>NaN</td>\n",
              "      <td>NaN</td>\n",
              "      <td>NaN</td>\n",
              "      <td>NaN</td>\n",
              "      <td>NaN</td>\n",
              "      <td>NaN</td>\n",
              "      <td>NaN</td>\n",
              "      <td>NaN</td>\n",
              "      <td>NaN</td>\n",
              "      <td>NaN</td>\n",
              "      <td>NaN</td>\n",
              "      <td>NaN</td>\n",
              "    </tr>\n",
              "    <tr>\n",
              "      <th>2</th>\n",
              "      <td>C5eIsssb9GSkaAgIfsHMHeR6fSh1</td>\n",
              "      <td>28</td>\n",
              "      <td>healthy</td>\n",
              "      <td>y</td>\n",
              "      <td>female</td>\n",
              "      <td>United States</td>\n",
              "      <td>Pittsburgh</td>\n",
              "      <td>Pennsylvania</td>\n",
              "      <td>n</td>\n",
              "      <td>NaN</td>\n",
              "      <td>NaN</td>\n",
              "      <td>NaN</td>\n",
              "      <td>NaN</td>\n",
              "      <td>NaN</td>\n",
              "      <td>NaN</td>\n",
              "      <td>NaN</td>\n",
              "      <td>NaN</td>\n",
              "      <td>NaN</td>\n",
              "      <td>NaN</td>\n",
              "      <td>NaN</td>\n",
              "      <td>NaN</td>\n",
              "      <td>NaN</td>\n",
              "      <td>NaN</td>\n",
              "      <td>NaN</td>\n",
              "      <td>NaN</td>\n",
              "      <td>NaN</td>\n",
              "      <td>NaN</td>\n",
              "      <td>NaN</td>\n",
              "      <td>NaN</td>\n",
              "      <td>NaN</td>\n",
              "      <td>NaN</td>\n",
              "      <td>NaN</td>\n",
              "      <td>NaN</td>\n",
              "      <td>NaN</td>\n",
              "      <td>NaN</td>\n",
              "    </tr>\n",
              "  </tbody>\n",
              "</table>\n",
              "</div>"
            ],
            "text/plain": [
              "                             id   a  ... others_resp others_preexist\n",
              "0  iV3Db6t1T8b7c5HQY2TwxIhjbzD3  28  ...         NaN             NaN\n",
              "1  AxuYWBN0jFVLINCBqIW5aZmGCdu1  25  ...         NaN             NaN\n",
              "2  C5eIsssb9GSkaAgIfsHMHeR6fSh1  28  ...         NaN             NaN\n",
              "\n",
              "[3 rows x 35 columns]"
            ]
          },
          "metadata": {
            "tags": []
          },
          "execution_count": 62
        }
      ]
    },
    {
      "cell_type": "code",
      "metadata": {
        "colab": {
          "base_uri": "https://localhost:8080/",
          "height": 608
        },
        "id": "unYAMyu5A8AC",
        "outputId": "f2f45702-a37f-4556-e23e-93385e6e7354"
      },
      "source": [
        "#Bar Chart of Covid status\n",
        "dimention = (20.00, 8.00)\n",
        "fig, ax = plt.subplots(figsize = dimention)\n",
        "sns.countplot(\"covid_status\", ax = ax, data = df_2)"
      ],
      "execution_count": 63,
      "outputs": [
        {
          "output_type": "stream",
          "text": [
            "/usr/local/lib/python3.7/dist-packages/seaborn/_decorators.py:43: FutureWarning:\n",
            "\n",
            "Pass the following variable as a keyword arg: x. From version 0.12, the only valid positional argument will be `data`, and passing other arguments without an explicit keyword will result in an error or misinterpretation.\n",
            "\n"
          ],
          "name": "stderr"
        },
        {
          "output_type": "execute_result",
          "data": {
            "text/plain": [
              "<matplotlib.axes._subplots.AxesSubplot at 0x7f99634865d0>"
            ]
          },
          "metadata": {
            "tags": []
          },
          "execution_count": 63
        },
        {
          "output_type": "display_data",
          "data": {
            "image/png": "[encoded data removed]",
            "text/plain": [
              "<Figure size 1440x576 with 1 Axes>"
            ]
          },
          "metadata": {
            "tags": []
          }
        }
      ]
    },
    {
      "cell_type": "code",
      "metadata": {
        "colab": {
          "base_uri": "https://localhost:8080/",
          "height": 542
        },
        "id": "5xjCSw1bBqEd",
        "outputId": "9c5ad6ad-2b27-4db8-b57d-f532425bfdfa"
      },
      "source": [
        "#Pie Chart of Covid status\n",
        "covid_status_pie_chart = px.pie(df_2, names = \"covid_status\")\n",
        "covid_status_pie_chart.show()"
      ],
      "execution_count": 64,
      "outputs": [
        {
          "output_type": "display_data",
          "data": {
            "text/html": [
              "<html>\n",
              "<head><meta charset=\"utf-8\" /></head>\n",
              "<body>\n",
              "    <div>\n",
              "            <script src=\"https://cdnjs.cloudflare.com/ajax/libs/mathjax/2.7.5/MathJax.js?config=TeX-AMS-MML_SVG\"></script><script type=\"text/javascript\">if (window.MathJax) {MathJax.Hub.Config({SVG: {font: \"STIX-Web\"}});}</script>\n",
              "                <script type=\"text/javascript\">window.PlotlyConfig = {MathJaxConfig: 'local'};</script>\n",
              "        <script src=\"https://cdn.plot.ly/plotly-latest.min.js\"></script>    \n",
              "            <div id=\"384d902c-66d7-40ef-8fe9-bc11fbf94897\" class=\"plotly-graph-div\" style=\"height:525px; width:100%;\"></div>\n",
              "            <script type=\"text/javascript\">\n",
              "                \n",
              "                    window.PLOTLYENV=window.PLOTLYENV || {};\n",
              "                    \n",
              "                if (document.getElementById(\"384d902c-66d7-40ef-8fe9-bc11fbf94897\")) {\n",
              "                    Plotly.newPlot(\n",
              "                        '384d902c-66d7-40ef-8fe9-bc11fbf94897',\n",
              "                        [{\"domain\": {\"x\": [0.0, 1.0], \"y\": [0.0, 1.0]}, \"hoverlabel\": {\"namelength\": 0}, \"hovertemplate\": \"covid_status=%{label}\", \"labels\": [\"healthy\", \"healthy\", \"healthy\", \"healthy\", \"healthy\", \"no_resp_illness_exposed\", \"healthy\", \"healthy\", \"healthy\", \"healthy\", \"resp_illness_not_identified\", \"healthy\", \"healthy\", \"healthy\", \"healthy\", \"healthy\", \"healthy\", \"healthy\", \"healthy\", \"healthy\", \"healthy\", \"healthy\", \"healthy\", \"healthy\", \"healthy\", \"healthy\", \"healthy\", \"healthy\", \"healthy\", \"healthy\", \"healthy\", \"healthy\", \"healthy\", \"healthy\", \"resp_illness_not_identified\", \"healthy\", \"healthy\", \"healthy\", \"healthy\", \"no_resp_illness_exposed\", \"healthy\", \"healthy\", \"no_resp_illness_exposed\", \"resp_illness_not_identified\", \"healthy\", \"healthy\", \"healthy\", \"healthy\", \"healthy\", \"healthy\", \"healthy\", \"healthy\", \"healthy\", \"resp_illness_not_identified\", \"resp_illness_not_identified\", \"resp_illness_not_identified\", \"healthy\", \"healthy\", \"healthy\", \"healthy\", \"recovered_full\", \"positive_mild\", \"positive_mild\", \"no_resp_illness_exposed\", \"positive_mild\", \"positive_mild\", \"recovered_full\", \"healthy\", \"positive_mild\", \"no_resp_illness_exposed\", \"healthy\", \"positive_mild\", \"healthy\", \"healthy\", \"healthy\", \"recovered_full\", \"positive_mild\", \"no_resp_illness_exposed\", \"positive_asymp\", \"positive_asymp\", \"positive_mild\", \"healthy\", \"healthy\", \"healthy\", \"no_resp_illness_exposed\", \"positive_mild\", \"healthy\", \"positive_mild\", \"healthy\", \"positive_mild\", \"positive_mild\", \"healthy\", \"positive_mild\", \"recovered_full\", \"positive_mild\", \"positive_mild\", \"positive_mild\", \"positive_mild\", \"recovered_full\", \"positive_mild\", \"healthy\", \"healthy\", \"positive_mild\", \"positive_mild\", \"positive_mild\", \"healthy\", \"healthy\", \"healthy\", \"healthy\", \"no_resp_illness_exposed\", \"positive_asymp\", \"healthy\", \"positive_asymp\", \"healthy\", \"positive_mild\", \"healthy\", \"healthy\", \"positive_mild\", \"positive_mild\", \"no_resp_illness_exposed\", \"positive_mild\", \"positive_asymp\", \"positive_mild\", \"healthy\", \"healthy\", \"healthy\", \"healthy\", \"healthy\", \"healthy\", \"healthy\", \"positive_asymp\", \"resp_illness_not_identified\", \"positive_mild\", \"positive_mild\", \"healthy\", \"healthy\", \"healthy\", \"healthy\", \"resp_illness_not_identified\", \"positive_asymp\", \"healthy\", \"positive_asymp\", \"positive_mild\", \"healthy\", \"healthy\", \"positive_mild\", \"positive_mild\", \"positive_mild\", \"healthy\", \"no_resp_illness_exposed\", \"positive_moderate\", \"positive_mild\", \"healthy\", \"healthy\", \"healthy\", \"healthy\", \"resp_illness_not_identified\", \"healthy\", \"healthy\", \"healthy\", \"healthy\", \"resp_illness_not_identified\", \"healthy\", \"healthy\", \"healthy\", \"healthy\", \"healthy\", \"resp_illness_not_identified\", \"healthy\", \"healthy\", \"healthy\", \"healthy\", \"resp_illness_not_identified\", \"healthy\", \"healthy\", \"healthy\", \"healthy\", \"resp_illness_not_identified\", \"healthy\", \"no_resp_illness_exposed\", \"healthy\", \"healthy\", \"healthy\", \"healthy\", \"healthy\", \"healthy\", \"healthy\", \"resp_illness_not_identified\", \"no_resp_illness_exposed\", \"healthy\", \"healthy\", \"resp_illness_not_identified\", \"healthy\", \"healthy\", \"healthy\", \"healthy\", \"healthy\", \"healthy\", \"healthy\", \"healthy\", \"healthy\", \"healthy\", \"healthy\", \"healthy\", \"healthy\", \"healthy\", \"healthy\", \"healthy\", \"healthy\", \"resp_illness_not_identified\", \"healthy\", \"healthy\", \"healthy\", \"healthy\", \"healthy\", \"healthy\", \"healthy\", \"healthy\", \"healthy\", \"healthy\", \"healthy\", \"no_resp_illness_exposed\", \"healthy\", \"healthy\", \"healthy\", \"healthy\", \"no_resp_illness_exposed\", \"healthy\", \"healthy\", \"healthy\", \"healthy\", \"healthy\", \"healthy\", \"healthy\", \"healthy\", \"healthy\", \"no_resp_illness_exposed\", \"healthy\", \"healthy\", \"healthy\", \"healthy\", \"healthy\", \"healthy\", \"healthy\", \"healthy\", \"healthy\", \"healthy\", \"healthy\", \"healthy\", \"healthy\", \"healthy\", \"resp_illness_not_identified\", \"healthy\", \"healthy\", \"no_resp_illness_exposed\", \"healthy\", \"healthy\", \"healthy\", \"healthy\", \"healthy\", \"healthy\", \"healthy\", \"healthy\", \"resp_illness_not_identified\", \"healthy\", \"healthy\", \"healthy\", \"healthy\", \"healthy\", \"healthy\", \"healthy\", \"healthy\", \"healthy\", \"healthy\", \"healthy\", \"healthy\", \"healthy\", \"resp_illness_not_identified\", \"healthy\", \"healthy\", \"healthy\", \"healthy\", \"healthy\", \"healthy\", \"healthy\", \"healthy\", \"healthy\", \"healthy\", \"healthy\", \"healthy\", \"resp_illness_not_identified\", \"healthy\", \"no_resp_illness_exposed\", \"healthy\", \"resp_illness_not_identified\", \"healthy\", \"healthy\", \"healthy\", \"healthy\", \"no_resp_illness_exposed\", \"healthy\", \"healthy\", \"healthy\", \"healthy\", \"healthy\", \"healthy\", \"healthy\", \"healthy\", \"no_resp_illness_exposed\", \"no_resp_illness_exposed\", \"healthy\", \"healthy\", \"healthy\", \"healthy\", \"healthy\", \"no_resp_illness_exposed\", \"positive_moderate\", \"positive_mild\", \"healthy\", \"no_resp_illness_exposed\", \"healthy\", \"healthy\", \"healthy\", \"healthy\", \"healthy\", \"healthy\", \"resp_illness_not_identified\", \"healthy\", \"healthy\", \"healthy\", \"healthy\", \"healthy\", \"healthy\", \"healthy\", \"positive_mild\", \"healthy\", \"healthy\", \"healthy\", \"healthy\", \"healthy\", \"no_resp_illness_exposed\", \"healthy\", \"healthy\", \"healthy\", \"healthy\", \"healthy\", \"healthy\", \"no_resp_illness_exposed\", \"healthy\", \"healthy\", \"resp_illness_not_identified\", \"healthy\", \"healthy\", \"healthy\", \"no_resp_illness_exposed\", \"healthy\", \"healthy\", \"healthy\", \"healthy\", \"healthy\", \"healthy\", \"healthy\", \"healthy\", \"healthy\", \"healthy\", \"healthy\", \"healthy\", \"healthy\", \"healthy\", \"healthy\", \"resp_illness_not_identified\", \"healthy\", \"healthy\", \"healthy\", \"healthy\", \"healthy\", \"healthy\", \"no_resp_illness_exposed\", \"healthy\", \"healthy\", \"healthy\", \"healthy\", \"healthy\", \"healthy\", \"healthy\", \"healthy\", \"healthy\", \"healthy\", \"healthy\", \"healthy\", \"healthy\", \"healthy\", \"resp_illness_not_identified\", \"healthy\", \"healthy\", \"healthy\", \"healthy\", \"healthy\", \"healthy\", \"healthy\", \"healthy\", \"healthy\", \"healthy\", \"no_resp_illness_exposed\", \"healthy\", \"healthy\", \"no_resp_illness_exposed\", \"healthy\", \"healthy\", \"healthy\", \"healthy\", \"healthy\", \"no_resp_illness_exposed\", \"resp_illness_not_identified\", \"resp_illness_not_identified\", \"healthy\", \"healthy\", \"no_resp_illness_exposed\", \"healthy\", \"healthy\", \"healthy\", \"healthy\", \"healthy\", \"healthy\", \"healthy\", \"healthy\", \"healthy\", \"healthy\", \"healthy\", \"healthy\", \"healthy\", \"healthy\", \"resp_illness_not_identified\", \"no_resp_illness_exposed\", \"healthy\", \"healthy\", \"healthy\", \"healthy\", \"healthy\", \"healthy\", \"healthy\", \"healthy\", \"healthy\", \"healthy\", \"healthy\", \"resp_illness_not_identified\", \"healthy\", \"healthy\", \"healthy\", \"healthy\", \"healthy\", \"no_resp_illness_exposed\", \"healthy\", \"healthy\", \"healthy\", \"healthy\", \"resp_illness_not_identified\", \"positive_mild\", \"healthy\", \"healthy\", \"healthy\", \"healthy\", \"healthy\", \"healthy\", \"healthy\", \"healthy\", \"healthy\", \"resp_illness_not_identified\", \"healthy\", \"healthy\", \"healthy\", \"healthy\", \"no_resp_illness_exposed\", \"healthy\", \"healthy\", \"healthy\", \"healthy\", \"healthy\", \"healthy\", \"healthy\", \"healthy\", \"healthy\", \"healthy\", \"healthy\", \"healthy\", \"healthy\", \"healthy\", \"healthy\", \"healthy\", \"healthy\", \"healthy\", \"healthy\", \"healthy\", \"healthy\", \"healthy\", \"healthy\", \"healthy\", \"healthy\", \"healthy\", \"no_resp_illness_exposed\", \"healthy\", \"healthy\", \"no_resp_illness_exposed\", \"healthy\", \"healthy\", \"healthy\", \"healthy\", \"healthy\", \"no_resp_illness_exposed\", \"healthy\", \"healthy\", \"healthy\", \"healthy\", \"healthy\", \"healthy\", \"resp_illness_not_identified\", \"healthy\", \"resp_illness_not_identified\", \"healthy\", \"healthy\", \"healthy\", \"healthy\", \"healthy\", \"healthy\", \"healthy\", \"no_resp_illness_exposed\", \"healthy\", \"recovered_full\", \"healthy\", \"positive_mild\", \"healthy\", \"healthy\", \"no_resp_illness_exposed\", \"resp_illness_not_identified\", \"resp_illness_not_identified\", \"healthy\", \"healthy\", \"positive_mild\", \"healthy\", \"healthy\", \"no_resp_illness_exposed\", \"healthy\", \"healthy\", \"healthy\", \"healthy\", \"healthy\", \"healthy\", \"no_resp_illness_exposed\", \"healthy\", \"healthy\", \"healthy\", \"healthy\", \"healthy\", \"healthy\", \"healthy\", \"no_resp_illness_exposed\", \"healthy\", \"healthy\", \"healthy\", \"healthy\", \"no_resp_illness_exposed\", \"healthy\", \"healthy\", \"healthy\", \"healthy\", \"healthy\", \"healthy\", \"healthy\", \"healthy\", \"healthy\", \"healthy\", \"healthy\", \"no_resp_illness_exposed\", \"healthy\", \"healthy\", \"healthy\", \"healthy\", \"healthy\", \"healthy\", \"healthy\", \"healthy\", \"healthy\", \"healthy\", \"healthy\", \"healthy\", \"healthy\", \"healthy\", \"healthy\", \"healthy\", \"healthy\", \"healthy\", \"healthy\", \"healthy\", \"healthy\", \"healthy\", \"healthy\", \"healthy\", \"healthy\", \"healthy\", \"healthy\", \"healthy\", \"healthy\", \"healthy\", \"healthy\", \"healthy\", \"healthy\", \"healthy\", \"healthy\", \"healthy\", \"healthy\", \"healthy\", \"healthy\", \"healthy\", \"healthy\", \"healthy\", \"healthy\", \"healthy\", \"healthy\", \"healthy\", \"no_resp_illness_exposed\", \"healthy\", \"healthy\", \"healthy\", \"healthy\", \"healthy\", \"healthy\", \"healthy\", \"no_resp_illness_exposed\", \"healthy\", \"healthy\", \"healthy\", \"resp_illness_not_identified\", \"healthy\", \"healthy\", \"no_resp_illness_exposed\", \"healthy\", \"healthy\", \"resp_illness_not_identified\", \"healthy\", \"healthy\", \"no_resp_illness_exposed\", \"healthy\", \"healthy\", \"healthy\", \"healthy\", \"no_resp_illness_exposed\", \"healthy\", \"healthy\", \"healthy\", \"healthy\", \"resp_illness_not_identified\", \"healthy\", \"healthy\", \"resp_illness_not_identified\", \"healthy\", \"resp_illness_not_identified\", \"healthy\", \"healthy\", \"healthy\", \"no_resp_illness_exposed\", \"healthy\", \"healthy\", \"healthy\", \"healthy\", \"healthy\", \"healthy\", \"healthy\", \"healthy\", \"healthy\", \"healthy\", \"healthy\", \"healthy\", \"healthy\", \"healthy\", \"healthy\", \"healthy\", \"no_resp_illness_exposed\", \"healthy\", \"healthy\", \"healthy\", \"healthy\", \"healthy\", \"healthy\", \"healthy\", \"healthy\", \"healthy\", \"resp_illness_not_identified\", \"healthy\", \"healthy\", \"healthy\", \"healthy\", \"healthy\", \"healthy\", \"healthy\", \"healthy\", \"healthy\", \"healthy\", \"positive_mild\", \"healthy\", \"healthy\", \"healthy\", \"healthy\", \"healthy\", \"no_resp_illness_exposed\", \"healthy\", \"healthy\", \"no_resp_illness_exposed\", \"positive_mild\", \"healthy\", \"healthy\", \"healthy\", \"healthy\", \"healthy\", \"no_resp_illness_exposed\", \"healthy\", \"healthy\", \"healthy\", \"healthy\", \"positive_mild\", \"healthy\", \"healthy\", \"healthy\", \"healthy\", \"healthy\", \"healthy\", \"healthy\", \"healthy\", \"no_resp_illness_exposed\", \"healthy\", \"healthy\", \"healthy\", \"healthy\", \"healthy\", \"healthy\", \"healthy\", \"healthy\", \"healthy\", \"healthy\", \"recovered_full\", \"healthy\", \"healthy\", \"healthy\", \"healthy\", \"healthy\", \"healthy\", \"healthy\", \"healthy\", \"positive_asymp\", \"positive_asymp\", \"healthy\", \"recovered_full\", \"resp_illness_not_identified\", \"positive_mild\", \"healthy\", \"positive_mild\", \"positive_mild\", \"healthy\", \"positive_mild\", \"positive_mild\", \"positive_moderate\", \"healthy\", \"positive_moderate\", \"healthy\", \"healthy\", \"positive_mild\", \"healthy\", \"recovered_full\", \"healthy\", \"no_resp_illness_exposed\", \"resp_illness_not_identified\", \"healthy\", \"healthy\", \"positive_mild\", \"resp_illness_not_identified\", \"healthy\", \"healthy\", \"healthy\", \"recovered_full\", \"healthy\", \"healthy\", \"healthy\", \"positive_mild\", \"positive_mild\", \"healthy\", \"healthy\", \"positive_mild\", \"no_resp_illness_exposed\", \"no_resp_illness_exposed\", \"healthy\", \"healthy\", \"positive_asymp\", \"positive_mild\", \"positive_mild\", \"healthy\", \"no_resp_illness_exposed\", \"positive_mild\", \"positive_mild\", \"positive_moderate\", \"no_resp_illness_exposed\", \"resp_illness_not_identified\", \"healthy\", \"no_resp_illness_exposed\", \"healthy\", \"healthy\", \"positive_mild\", \"no_resp_illness_exposed\", \"healthy\", \"resp_illness_not_identified\", \"healthy\", \"no_resp_illness_exposed\", \"positive_mild\", \"no_resp_illness_exposed\", \"positive_mild\", \"recovered_full\", \"positive_mild\", \"healthy\", \"positive_mild\", \"healthy\", \"recovered_full\", \"no_resp_illness_exposed\", \"resp_illness_not_identified\", \"healthy\", \"no_resp_illness_exposed\", \"healthy\", \"no_resp_illness_exposed\", \"no_resp_illness_exposed\", \"no_resp_illness_exposed\", \"no_resp_illness_exposed\", \"no_resp_illness_exposed\", \"healthy\", \"recovered_full\", \"healthy\", \"resp_illness_not_identified\", \"positive_asymp\", \"healthy\", \"healthy\", \"healthy\", \"healthy\", \"healthy\", \"healthy\", \"healthy\", \"healthy\", \"healthy\", \"healthy\", \"healthy\", \"healthy\", \"healthy\", \"healthy\", \"healthy\", \"healthy\", \"healthy\", \"healthy\", \"healthy\", \"resp_illness_not_identified\", \"healthy\", \"healthy\", \"healthy\", \"healthy\", \"healthy\", \"healthy\", \"healthy\", \"healthy\", \"healthy\", \"healthy\", \"healthy\", \"resp_illness_not_identified\", \"healthy\", \"healthy\", \"healthy\", \"healthy\", \"healthy\", \"healthy\", \"healthy\", \"healthy\", \"healthy\", \"resp_illness_not_identified\", \"healthy\", \"healthy\", \"healthy\", \"healthy\", \"healthy\", \"healthy\", \"healthy\", \"resp_illness_not_identified\", \"healthy\", \"healthy\", \"healthy\", \"healthy\", \"healthy\", \"healthy\", \"resp_illness_not_identified\", \"resp_illness_not_identified\", \"healthy\", \"healthy\", \"healthy\", \"healthy\", \"healthy\", \"healthy\", \"healthy\", \"healthy\", \"healthy\", \"healthy\", \"no_resp_illness_exposed\", \"healthy\", \"healthy\", \"healthy\", \"healthy\", \"healthy\", \"healthy\", \"healthy\", \"healthy\", \"healthy\", \"healthy\", \"healthy\", \"no_resp_illness_exposed\", \"healthy\", \"healthy\", \"healthy\", \"healthy\", \"healthy\", \"positive_mild\", \"healthy\", \"healthy\", \"healthy\", \"healthy\", \"healthy\", \"healthy\", \"healthy\", \"healthy\", \"healthy\", \"healthy\", \"healthy\", \"healthy\", \"healthy\", \"healthy\", \"healthy\", \"healthy\", \"healthy\", \"healthy\", \"healthy\", \"healthy\", \"healthy\", \"healthy\", \"healthy\", \"healthy\", \"healthy\", \"healthy\", \"healthy\", \"healthy\", \"healthy\", \"healthy\", \"healthy\", \"healthy\", \"healthy\", \"healthy\", \"healthy\", \"healthy\", \"healthy\", \"healthy\", \"healthy\", \"healthy\", \"healthy\", \"healthy\", \"healthy\", \"healthy\", \"healthy\", \"no_resp_illness_exposed\", \"healthy\", \"healthy\", \"healthy\", \"healthy\", \"resp_illness_not_identified\", \"no_resp_illness_exposed\", \"resp_illness_not_identified\", \"healthy\", \"healthy\", \"healthy\", \"healthy\", \"healthy\", \"healthy\", \"healthy\", \"healthy\", \"resp_illness_not_identified\", \"healthy\", \"resp_illness_not_identified\", \"healthy\", \"healthy\", \"no_resp_illness_exposed\", \"resp_illness_not_identified\", \"healthy\", \"healthy\", \"healthy\", \"positive_asymp\", \"positive_mild\", \"positive_moderate\", \"no_resp_illness_exposed\", \"healthy\", \"no_resp_illness_exposed\", \"healthy\", \"healthy\", \"positive_asymp\", \"positive_mild\", \"healthy\", \"positive_mild\", \"positive_mild\", \"healthy\", \"recovered_full\", \"healthy\", \"healthy\", \"positive_moderate\", \"positive_asymp\", \"positive_moderate\", \"no_resp_illness_exposed\", \"positive_mild\", \"positive_moderate\", \"positive_mild\", \"no_resp_illness_exposed\", \"no_resp_illness_exposed\", \"positive_mild\", \"positive_mild\", \"positive_mild\", \"positive_mild\", \"positive_mild\", \"positive_mild\", \"healthy\", \"positive_moderate\", \"positive_moderate\", \"positive_moderate\", \"positive_mild\", \"positive_moderate\", \"positive_moderate\", \"positive_mild\", \"healthy\", \"positive_mild\", \"healthy\", \"positive_mild\", \"positive_mild\", \"positive_mild\", \"no_resp_illness_exposed\", \"positive_mild\", \"positive_mild\", \"healthy\", \"positive_mild\", \"healthy\", \"recovered_full\", \"positive_mild\", \"positive_mild\", \"positive_mild\", \"positive_mild\", \"positive_moderate\", \"healthy\", \"recovered_full\", \"positive_mild\", \"positive_mild\", \"positive_mild\", \"recovered_full\", \"positive_mild\", \"positive_mild\", \"positive_mild\", \"positive_mild\", \"positive_moderate\", \"positive_mild\", \"positive_mild\", \"positive_mild\", \"positive_mild\", \"positive_mild\", \"positive_mild\", \"healthy\", \"no_resp_illness_exposed\", \"positive_moderate\", \"healthy\", \"positive_moderate\", \"healthy\", \"positive_moderate\", \"positive_mild\", \"positive_mild\", \"positive_moderate\", \"healthy\", \"healthy\", \"healthy\", \"healthy\", \"healthy\", \"healthy\", \"healthy\", \"healthy\", \"resp_illness_not_identified\", \"healthy\", \"healthy\", \"healthy\", \"healthy\", \"healthy\", \"healthy\", \"no_resp_illness_exposed\", \"healthy\", \"healthy\", \"healthy\", \"no_resp_illness_exposed\", \"healthy\", \"healthy\", \"healthy\", \"healthy\", \"healthy\", \"healthy\", \"healthy\", \"healthy\", \"healthy\", \"healthy\", \"resp_illness_not_identified\", \"no_resp_illness_exposed\", \"healthy\", \"healthy\", \"healthy\", \"healthy\", \"healthy\", \"healthy\", \"healthy\", \"healthy\", \"healthy\", \"no_resp_illness_exposed\", \"healthy\", \"resp_illness_not_identified\", \"healthy\", \"healthy\", \"healthy\", \"healthy\", \"healthy\", \"healthy\", \"healthy\", \"healthy\", \"healthy\", \"healthy\", \"healthy\", \"healthy\", \"healthy\", \"healthy\", \"healthy\", \"healthy\", \"healthy\", \"healthy\", \"healthy\", \"healthy\", \"healthy\", \"healthy\", \"healthy\", \"healthy\", \"resp_illness_not_identified\", \"healthy\", \"healthy\", \"healthy\", \"resp_illness_not_identified\", \"healthy\", \"no_resp_illness_exposed\", \"healthy\", \"healthy\", \"healthy\", \"healthy\", \"healthy\", \"healthy\", \"healthy\", \"healthy\", \"healthy\", \"healthy\", \"healthy\", \"healthy\", \"healthy\", \"healthy\", \"healthy\", \"healthy\", \"healthy\", \"healthy\", \"healthy\", \"healthy\", \"healthy\", \"healthy\", \"healthy\", \"healthy\", \"healthy\", \"healthy\", \"healthy\", \"healthy\", \"healthy\", \"healthy\", \"healthy\", \"healthy\", \"healthy\", \"healthy\", \"healthy\", \"healthy\", \"healthy\", \"healthy\", \"healthy\", \"healthy\", \"healthy\", \"resp_illness_not_identified\", \"healthy\", \"healthy\", \"healthy\", \"resp_illness_not_identified\", \"healthy\", \"recovered_full\", \"no_resp_illness_exposed\", \"positive_mild\", \"recovered_full\", \"positive_mild\", \"recovered_full\", \"positive_moderate\", \"positive_mild\", \"positive_mild\", \"positive_mild\", \"positive_mild\", \"healthy\", \"recovered_full\", \"positive_mild\", \"positive_moderate\", \"no_resp_illness_exposed\", \"healthy\", \"positive_mild\", \"resp_illness_not_identified\", \"positive_asymp\", \"recovered_full\", \"positive_mild\", \"no_resp_illness_exposed\", \"recovered_full\", \"positive_mild\", \"healthy\", \"positive_moderate\", \"no_resp_illness_exposed\", \"recovered_full\", \"positive_mild\", \"positive_mild\", \"positive_mild\", \"positive_mild\", \"healthy\", \"positive_mild\", \"recovered_full\", \"recovered_full\", \"healthy\", \"positive_mild\", \"recovered_full\", \"recovered_full\", \"positive_mild\", \"no_resp_illness_exposed\", \"recovered_full\", \"healthy\", \"positive_mild\", \"recovered_full\", \"positive_mild\", \"positive_mild\", \"healthy\", \"positive_mild\", \"healthy\", \"positive_mild\", \"positive_mild\", \"healthy\", \"positive_mild\", \"recovered_full\", \"healthy\", \"positive_mild\", \"recovered_full\", \"positive_moderate\", \"recovered_full\", \"healthy\", \"positive_asymp\", \"positive_moderate\", \"healthy\", \"positive_mild\", \"recovered_full\", \"no_resp_illness_exposed\", \"healthy\", \"positive_mild\", \"positive_mild\", \"positive_moderate\", \"positive_mild\", \"positive_mild\", \"positive_mild\", \"no_resp_illness_exposed\", \"positive_mild\", \"positive_mild\", \"healthy\", \"healthy\", \"healthy\", \"recovered_full\", \"no_resp_illness_exposed\", \"healthy\", \"healthy\", \"healthy\", \"healthy\", \"no_resp_illness_exposed\", \"healthy\", \"healthy\", \"no_resp_illness_exposed\", \"healthy\", \"positive_mild\", \"healthy\", \"healthy\", \"healthy\", \"healthy\", \"healthy\", \"healthy\", \"healthy\", \"healthy\", \"healthy\", \"healthy\", \"healthy\", \"healthy\", \"healthy\", \"no_resp_illness_exposed\", \"healthy\", \"healthy\", \"healthy\", \"healthy\", \"healthy\", \"healthy\", \"healthy\", \"healthy\", \"healthy\", \"healthy\", \"healthy\", \"healthy\", \"healthy\", \"healthy\", \"healthy\", \"healthy\", \"healthy\", \"healthy\", \"healthy\", \"healthy\", \"healthy\", \"healthy\", \"healthy\", \"healthy\", \"healthy\", \"healthy\", \"healthy\", \"resp_illness_not_identified\", \"healthy\", \"resp_illness_not_identified\", \"healthy\", \"healthy\", \"resp_illness_not_identified\", \"healthy\", \"healthy\", \"healthy\", \"healthy\", \"healthy\", \"resp_illness_not_identified\", \"healthy\", \"healthy\", \"no_resp_illness_exposed\", \"healthy\", \"healthy\", \"healthy\", \"healthy\", \"healthy\", \"healthy\", \"healthy\", \"healthy\", \"healthy\", \"healthy\", \"healthy\", \"healthy\", \"resp_illness_not_identified\", \"healthy\", \"healthy\", \"healthy\", \"healthy\", \"healthy\", \"healthy\", \"healthy\", \"healthy\", \"healthy\", \"healthy\", \"no_resp_illness_exposed\", \"healthy\", \"healthy\", \"healthy\", \"healthy\", \"healthy\", \"healthy\", \"healthy\", \"healthy\", \"healthy\", \"healthy\", \"healthy\", \"resp_illness_not_identified\", \"healthy\", \"healthy\", \"healthy\", \"healthy\", \"healthy\", \"healthy\", \"healthy\", \"healthy\", \"healthy\", \"healthy\", \"healthy\", \"healthy\", \"healthy\", \"healthy\", \"healthy\", \"healthy\", \"healthy\", \"healthy\", \"healthy\", \"healthy\", \"healthy\", \"healthy\", \"healthy\", \"healthy\", \"healthy\", \"healthy\", \"healthy\", \"healthy\", \"healthy\", \"healthy\", \"healthy\", \"healthy\", \"healthy\", \"no_resp_illness_exposed\", \"healthy\", \"healthy\", \"healthy\", \"healthy\", \"healthy\", \"healthy\", \"no_resp_illness_exposed\", \"healthy\", \"healthy\", \"healthy\", \"healthy\", \"healthy\", \"healthy\", \"healthy\", \"healthy\", \"healthy\", \"healthy\", \"healthy\", \"healthy\", \"healthy\", \"healthy\", \"healthy\", \"healthy\", \"healthy\", \"healthy\", \"healthy\", \"no_resp_illness_exposed\", \"healthy\", \"healthy\", \"healthy\", \"healthy\", \"healthy\", \"healthy\", \"healthy\", \"healthy\", \"healthy\", \"healthy\", \"healthy\", \"healthy\", \"healthy\", \"healthy\", \"healthy\", \"resp_illness_not_identified\", \"healthy\", \"healthy\", \"healthy\", \"healthy\", \"healthy\", \"healthy\", \"healthy\", \"healthy\", \"healthy\", \"healthy\", \"healthy\", \"healthy\", \"healthy\", \"healthy\", \"resp_illness_not_identified\", \"healthy\", \"healthy\", \"healthy\", \"healthy\", \"healthy\", \"healthy\", \"resp_illness_not_identified\", \"healthy\", \"healthy\", \"healthy\", \"healthy\", \"healthy\", \"healthy\", \"healthy\", \"resp_illness_not_identified\", \"healthy\", \"positive_mild\", \"positive_mild\", \"healthy\", \"healthy\", \"positive_asymp\", \"positive_moderate\", \"positive_mild\", \"healthy\", \"healthy\", \"healthy\", \"positive_mild\", \"healthy\", \"healthy\", \"no_resp_illness_exposed\", \"positive_mild\", \"recovered_full\", \"positive_asymp\", \"positive_mild\", \"positive_asymp\", \"recovered_full\", \"positive_mild\", \"no_resp_illness_exposed\", \"positive_mild\", \"healthy\", \"recovered_full\", \"healthy\", \"no_resp_illness_exposed\", \"healthy\", \"healthy\", \"healthy\", \"healthy\", \"positive_moderate\", \"healthy\", \"healthy\", \"healthy\", \"healthy\", \"healthy\", \"healthy\", \"healthy\", \"healthy\", \"healthy\", \"healthy\", \"healthy\", \"healthy\", \"healthy\", \"healthy\", \"positive_mild\", \"positive_mild\", \"positive_mild\", \"healthy\", \"positive_moderate\", \"healthy\", \"healthy\", \"healthy\", \"healthy\", \"no_resp_illness_exposed\", \"healthy\", \"healthy\", \"positive_asymp\", \"healthy\", \"recovered_full\", \"healthy\", \"healthy\", \"healthy\", \"healthy\", \"healthy\", \"healthy\", \"healthy\", \"healthy\", \"healthy\", \"healthy\", \"resp_illness_not_identified\", \"no_resp_illness_exposed\", \"healthy\", \"healthy\", \"healthy\", \"healthy\", \"healthy\", \"healthy\", \"healthy\", \"positive_asymp\", \"healthy\", \"healthy\", \"positive_mild\", \"recovered_full\", \"healthy\", \"resp_illness_not_identified\", \"positive_mild\", \"positive_moderate\", \"healthy\", \"healthy\", \"healthy\", \"positive_asymp\", \"no_resp_illness_exposed\", \"no_resp_illness_exposed\", \"resp_illness_not_identified\", \"healthy\", \"healthy\", \"no_resp_illness_exposed\", \"healthy\", \"healthy\", \"positive_mild\", \"no_resp_illness_exposed\", \"no_resp_illness_exposed\", \"positive_mild\", \"positive_moderate\", \"healthy\", \"healthy\", \"no_resp_illness_exposed\", \"healthy\", \"healthy\", \"healthy\", \"healthy\", \"positive_mild\", \"healthy\", \"resp_illness_not_identified\", \"positive_moderate\", \"positive_mild\", \"healthy\", \"healthy\", \"no_resp_illness_exposed\", \"healthy\", \"healthy\", \"healthy\", \"positive_mild\", \"no_resp_illness_exposed\", \"healthy\", \"healthy\", \"no_resp_illness_exposed\", \"positive_asymp\", \"healthy\", \"recovered_full\", \"positive_moderate\", \"healthy\", \"healthy\", \"positive_asymp\", \"no_resp_illness_exposed\", \"healthy\", \"healthy\", \"positive_moderate\", \"healthy\", \"positive_asymp\", \"positive_moderate\", \"positive_mild\", \"healthy\", \"positive_moderate\", \"positive_mild\", \"recovered_full\", \"no_resp_illness_exposed\", \"recovered_full\", \"healthy\", \"no_resp_illness_exposed\", \"healthy\", \"healthy\", \"healthy\", \"positive_mild\", \"no_resp_illness_exposed\", \"healthy\", \"recovered_full\", \"recovered_full\", \"no_resp_illness_exposed\", \"positive_moderate\", \"healthy\", \"no_resp_illness_exposed\", \"healthy\", \"recovered_full\", \"healthy\", \"healthy\", \"healthy\", \"healthy\", \"healthy\", \"healthy\", \"healthy\", \"no_resp_illness_exposed\", \"no_resp_illness_exposed\", \"healthy\", \"healthy\", \"healthy\", \"healthy\", \"healthy\", \"healthy\", \"healthy\", \"healthy\", \"healthy\", \"healthy\", \"healthy\", \"healthy\", \"no_resp_illness_exposed\", \"healthy\", \"no_resp_illness_exposed\", \"healthy\", \"no_resp_illness_exposed\", \"healthy\", \"healthy\", \"healthy\", \"healthy\", \"healthy\", \"healthy\", \"no_resp_illness_exposed\", \"healthy\", \"recovered_full\", \"no_resp_illness_exposed\", \"no_resp_illness_exposed\", \"healthy\", \"healthy\", \"healthy\", \"healthy\", \"no_resp_illness_exposed\", \"positive_mild\", \"healthy\", \"no_resp_illness_exposed\", \"healthy\", \"healthy\", \"healthy\", \"healthy\", \"healthy\", \"healthy\", \"healthy\", \"healthy\", \"healthy\", \"healthy\", \"healthy\", \"healthy\", \"healthy\", \"healthy\", \"healthy\", \"healthy\", \"healthy\", \"healthy\", \"healthy\", \"healthy\", \"healthy\", \"healthy\", \"healthy\", \"healthy\", \"healthy\", \"healthy\", \"healthy\", \"healthy\", \"resp_illness_not_identified\", \"healthy\", \"healthy\", \"healthy\", \"healthy\", \"resp_illness_not_identified\", \"resp_illness_not_identified\", \"healthy\", \"no_resp_illness_exposed\", \"healthy\", \"healthy\", \"healthy\", \"healthy\", \"resp_illness_not_identified\", \"healthy\", \"healthy\", \"healthy\", \"healthy\", \"healthy\", \"healthy\", \"healthy\", \"healthy\", \"healthy\", \"healthy\", \"healthy\", \"healthy\", \"healthy\", \"healthy\", \"healthy\", \"healthy\", \"no_resp_illness_exposed\", \"resp_illness_not_identified\", \"healthy\", \"healthy\", \"healthy\", \"healthy\", \"healthy\", \"no_resp_illness_exposed\", \"healthy\", \"healthy\", \"no_resp_illness_exposed\", \"no_resp_illness_exposed\", \"no_resp_illness_exposed\", \"no_resp_illness_exposed\", \"positive_asymp\", \"healthy\", \"no_resp_illness_exposed\", \"no_resp_illness_exposed\", \"healthy\", \"no_resp_illness_exposed\", \"positive_mild\", \"recovered_full\", \"no_resp_illness_exposed\", \"healthy\", \"recovered_full\", \"positive_mild\", \"healthy\", \"healthy\", \"resp_illness_not_identified\", \"no_resp_illness_exposed\", \"healthy\", \"positive_mild\", \"no_resp_illness_exposed\", \"no_resp_illness_exposed\", \"positive_asymp\", \"healthy\", \"healthy\", \"healthy\", \"healthy\", \"positive_mild\", \"positive_mild\", \"positive_mild\", \"positive_mild\", \"healthy\", \"healthy\", \"no_resp_illness_exposed\", \"no_resp_illness_exposed\", \"positive_asymp\", \"healthy\", \"no_resp_illness_exposed\", \"healthy\", \"healthy\", \"positive_mild\", \"positive_mild\", \"healthy\", \"healthy\", \"healthy\", \"healthy\", \"healthy\", \"healthy\", \"healthy\", \"positive_mild\", \"healthy\", \"positive_mild\", \"healthy\", \"healthy\", \"healthy\", \"healthy\", \"healthy\", \"positive_mild\", \"positive_moderate\", \"healthy\", \"no_resp_illness_exposed\", \"healthy\", \"healthy\", \"positive_mild\", \"healthy\", \"healthy\", \"healthy\", \"resp_illness_not_identified\", \"healthy\", \"resp_illness_not_identified\", \"no_resp_illness_exposed\", \"resp_illness_not_identified\", \"healthy\", \"healthy\", \"healthy\", \"no_resp_illness_exposed\", \"healthy\", \"healthy\", \"positive_mild\", \"healthy\", \"healthy\", \"recovered_full\", \"healthy\", \"positive_mild\", \"healthy\", \"recovered_full\", \"positive_asymp\", \"positive_asymp\", \"positive_moderate\", \"positive_mild\", \"healthy\", \"healthy\", \"recovered_full\", \"healthy\", \"recovered_full\", \"healthy\", \"recovered_full\", \"recovered_full\", \"positive_mild\", \"positive_mild\", \"recovered_full\", \"positive_mild\", \"healthy\", \"recovered_full\", \"recovered_full\", \"healthy\", \"positive_mild\", \"recovered_full\", \"recovered_full\", \"positive_asymp\", \"healthy\", \"no_resp_illness_exposed\", \"recovered_full\", \"positive_mild\", \"positive_moderate\", \"recovered_full\", \"healthy\", \"recovered_full\", \"healthy\", \"healthy\", \"recovered_full\", \"positive_mild\", \"positive_mild\", \"no_resp_illness_exposed\", \"positive_moderate\", \"positive_mild\", \"positive_moderate\", \"positive_moderate\", \"positive_mild\", \"positive_mild\", \"healthy\", \"positive_asymp\", \"positive_moderate\", \"positive_mild\", \"positive_mild\", \"positive_mild\", \"positive_moderate\", \"positive_mild\", \"positive_asymp\", \"positive_mild\", \"positive_moderate\", \"positive_mild\", \"positive_mild\", \"positive_mild\", \"positive_moderate\", \"positive_mild\", \"positive_mild\", \"positive_moderate\", \"positive_mild\", \"no_resp_illness_exposed\", \"positive_moderate\", \"positive_mild\", \"positive_asymp\", \"positive_asymp\", \"positive_mild\", \"recovered_full\", \"positive_mild\", \"positive_mild\", \"healthy\", \"positive_mild\", \"healthy\", \"positive_mild\", \"positive_mild\", \"positive_mild\", \"positive_moderate\", \"positive_mild\", \"no_resp_illness_exposed\", \"positive_mild\", \"positive_asymp\", \"positive_mild\", \"positive_mild\", \"positive_moderate\", \"positive_mild\"], \"legendgroup\": \"\", \"name\": \"\", \"showlegend\": true, \"type\": \"pie\"}],\n",
              "                        {\"legend\": {\"tracegroupgap\": 0}, \"margin\": {\"t\": 60}, \"template\": {\"data\": {\"bar\": [{\"error_x\": {\"color\": \"#2a3f5f\"}, \"error_y\": {\"color\": \"#2a3f5f\"}, \"marker\": {\"line\": {\"color\": \"#E5ECF6\", \"width\": 0.5}}, \"type\": \"bar\"}], \"barpolar\": [{\"marker\": {\"line\": {\"color\": \"#E5ECF6\", \"width\": 0.5}}, \"type\": \"barpolar\"}], \"carpet\": [{\"aaxis\": {\"endlinecolor\": \"#2a3f5f\", \"gridcolor\": \"white\", \"linecolor\": \"white\", \"minorgridcolor\": \"white\", \"startlinecolor\": \"#2a3f5f\"}, \"baxis\": {\"endlinecolor\": \"#2a3f5f\", \"gridcolor\": \"white\", \"linecolor\": \"white\", \"minorgridcolor\": \"white\", \"startlinecolor\": \"#2a3f5f\"}, \"type\": \"carpet\"}], \"choropleth\": [{\"colorbar\": {\"outlinewidth\": 0, \"ticks\": \"\"}, \"type\": \"choropleth\"}], \"contour\": [{\"colorbar\": {\"outlinewidth\": 0, \"ticks\": \"\"}, \"colorscale\": [[0.0, \"#0d0887\"], [0.1111111111111111, \"#46039f\"], [0.2222222222222222, \"#7201a8\"], [0.3333333333333333, \"#9c179e\"], [0.4444444444444444, \"#bd3786\"], [0.5555555555555556, \"#d8576b\"], [0.6666666666666666, \"#ed7953\"], [0.7777777777777778, \"#fb9f3a\"], [0.8888888888888888, \"#fdca26\"], [1.0, \"#f0f921\"]], \"type\": \"contour\"}], \"contourcarpet\": [{\"colorbar\": {\"outlinewidth\": 0, \"ticks\": \"\"}, \"type\": \"contourcarpet\"}], \"heatmap\": [{\"colorbar\": {\"outlinewidth\": 0, \"ticks\": \"\"}, \"colorscale\": [[0.0, \"#0d0887\"], [0.1111111111111111, \"#46039f\"], [0.2222222222222222, \"#7201a8\"], [0.3333333333333333, \"#9c179e\"], [0.4444444444444444, \"#bd3786\"], [0.5555555555555556, \"#d8576b\"], [0.6666666666666666, \"#ed7953\"], [0.7777777777777778, \"#fb9f3a\"], [0.8888888888888888, \"#fdca26\"], [1.0, \"#f0f921\"]], \"type\": \"heatmap\"}], \"heatmapgl\": [{\"colorbar\": {\"outlinewidth\": 0, \"ticks\": \"\"}, \"colorscale\": [[0.0, \"#0d0887\"], [0.1111111111111111, \"#46039f\"], [0.2222222222222222, \"#7201a8\"], [0.3333333333333333, \"#9c179e\"], [0.4444444444444444, \"#bd3786\"], [0.5555555555555556, \"#d8576b\"], [0.6666666666666666, \"#ed7953\"], [0.7777777777777778, \"#fb9f3a\"], [0.8888888888888888, \"#fdca26\"], [1.0, \"#f0f921\"]], \"type\": \"heatmapgl\"}], \"histogram\": [{\"marker\": {\"colorbar\": {\"outlinewidth\": 0, \"ticks\": \"\"}}, \"type\": \"histogram\"}], \"histogram2d\": [{\"colorbar\": {\"outlinewidth\": 0, \"ticks\": \"\"}, \"colorscale\": [[0.0, \"#0d0887\"], [0.1111111111111111, \"#46039f\"], [0.2222222222222222, \"#7201a8\"], [0.3333333333333333, \"#9c179e\"], [0.4444444444444444, \"#bd3786\"], [0.5555555555555556, \"#d8576b\"], [0.6666666666666666, \"#ed7953\"], [0.7777777777777778, \"#fb9f3a\"], [0.8888888888888888, \"#fdca26\"], [1.0, \"#f0f921\"]], \"type\": \"histogram2d\"}], \"histogram2dcontour\": [{\"colorbar\": {\"outlinewidth\": 0, \"ticks\": \"\"}, \"colorscale\": [[0.0, \"#0d0887\"], [0.1111111111111111, \"#46039f\"], [0.2222222222222222, \"#7201a8\"], [0.3333333333333333, \"#9c179e\"], [0.4444444444444444, \"#bd3786\"], [0.5555555555555556, \"#d8576b\"], [0.6666666666666666, \"#ed7953\"], [0.7777777777777778, \"#fb9f3a\"], [0.8888888888888888, \"#fdca26\"], [1.0, \"#f0f921\"]], \"type\": \"histogram2dcontour\"}], \"mesh3d\": [{\"colorbar\": {\"outlinewidth\": 0, \"ticks\": \"\"}, \"type\": \"mesh3d\"}], \"parcoords\": [{\"line\": {\"colorbar\": {\"outlinewidth\": 0, \"ticks\": \"\"}}, \"type\": \"parcoords\"}], \"pie\": [{\"automargin\": true, \"type\": \"pie\"}], \"scatter\": [{\"marker\": {\"colorbar\": {\"outlinewidth\": 0, \"ticks\": \"\"}}, \"type\": \"scatter\"}], \"scatter3d\": [{\"line\": {\"colorbar\": {\"outlinewidth\": 0, \"ticks\": \"\"}}, \"marker\": {\"colorbar\": {\"outlinewidth\": 0, \"ticks\": \"\"}}, \"type\": \"scatter3d\"}], \"scattercarpet\": [{\"marker\": {\"colorbar\": {\"outlinewidth\": 0, \"ticks\": \"\"}}, \"type\": \"scattercarpet\"}], \"scattergeo\": [{\"marker\": {\"colorbar\": {\"outlinewidth\": 0, \"ticks\": \"\"}}, \"type\": \"scattergeo\"}], \"scattergl\": [{\"marker\": {\"colorbar\": {\"outlinewidth\": 0, \"ticks\": \"\"}}, \"type\": \"scattergl\"}], \"scattermapbox\": [{\"marker\": {\"colorbar\": {\"outlinewidth\": 0, \"ticks\": \"\"}}, \"type\": \"scattermapbox\"}], \"scatterpolar\": [{\"marker\": {\"colorbar\": {\"outlinewidth\": 0, \"ticks\": \"\"}}, \"type\": \"scatterpolar\"}], \"scatterpolargl\": [{\"marker\": {\"colorbar\": {\"outlinewidth\": 0, \"ticks\": \"\"}}, \"type\": \"scatterpolargl\"}], \"scatterternary\": [{\"marker\": {\"colorbar\": {\"outlinewidth\": 0, \"ticks\": \"\"}}, \"type\": \"scatterternary\"}], \"surface\": [{\"colorbar\": {\"outlinewidth\": 0, \"ticks\": \"\"}, \"colorscale\": [[0.0, \"#0d0887\"], [0.1111111111111111, \"#46039f\"], [0.2222222222222222, \"#7201a8\"], [0.3333333333333333, \"#9c179e\"], [0.4444444444444444, \"#bd3786\"], [0.5555555555555556, \"#d8576b\"], [0.6666666666666666, \"#ed7953\"], [0.7777777777777778, \"#fb9f3a\"], [0.8888888888888888, \"#fdca26\"], [1.0, \"#f0f921\"]], \"type\": \"surface\"}], \"table\": [{\"cells\": {\"fill\": {\"color\": \"#EBF0F8\"}, \"line\": {\"color\": \"white\"}}, \"header\": {\"fill\": {\"color\": \"#C8D4E3\"}, \"line\": {\"color\": \"white\"}}, \"type\": \"table\"}]}, \"layout\": {\"annotationdefaults\": {\"arrowcolor\": \"#2a3f5f\", \"arrowhead\": 0, \"arrowwidth\": 1}, \"coloraxis\": {\"colorbar\": {\"outlinewidth\": 0, \"ticks\": \"\"}}, \"colorscale\": {\"diverging\": [[0, \"#8e0152\"], [0.1, \"#c51b7d\"], [0.2, \"#de77ae\"], [0.3, \"#f1b6da\"], [0.4, \"#fde0ef\"], [0.5, \"#f7f7f7\"], [0.6, \"#e6f5d0\"], [0.7, \"#b8e186\"], [0.8, \"#7fbc41\"], [0.9, \"#4d9221\"], [1, \"#276419\"]], \"sequential\": [[0.0, \"#0d0887\"], [0.1111111111111111, \"#46039f\"], [0.2222222222222222, \"#7201a8\"], [0.3333333333333333, \"#9c179e\"], [0.4444444444444444, \"#bd3786\"], [0.5555555555555556, \"#d8576b\"], [0.6666666666666666, \"#ed7953\"], [0.7777777777777778, \"#fb9f3a\"], [0.8888888888888888, \"#fdca26\"], [1.0, \"#f0f921\"]], \"sequentialminus\": [[0.0, \"#0d0887\"], [0.1111111111111111, \"#46039f\"], [0.2222222222222222, \"#7201a8\"], [0.3333333333333333, \"#9c179e\"], [0.4444444444444444, \"#bd3786\"], [0.5555555555555556, \"#d8576b\"], [0.6666666666666666, \"#ed7953\"], [0.7777777777777778, \"#fb9f3a\"], [0.8888888888888888, \"#fdca26\"], [1.0, \"#f0f921\"]]}, \"colorway\": [\"#636efa\", \"#EF553B\", \"#00cc96\", \"#ab63fa\", \"#FFA15A\", \"#19d3f3\", \"#FF6692\", \"#B6E880\", \"#FF97FF\", \"#FECB52\"], \"font\": {\"color\": \"#2a3f5f\"}, \"geo\": {\"bgcolor\": \"white\", \"lakecolor\": \"white\", \"landcolor\": \"#E5ECF6\", \"showlakes\": true, \"showland\": true, \"subunitcolor\": \"white\"}, \"hoverlabel\": {\"align\": \"left\"}, \"hovermode\": \"closest\", \"mapbox\": {\"style\": \"light\"}, \"paper_bgcolor\": \"white\", \"plot_bgcolor\": \"#E5ECF6\", \"polar\": {\"angularaxis\": {\"gridcolor\": \"white\", \"linecolor\": \"white\", \"ticks\": \"\"}, \"bgcolor\": \"#E5ECF6\", \"radialaxis\": {\"gridcolor\": \"white\", \"linecolor\": \"white\", \"ticks\": \"\"}}, \"scene\": {\"xaxis\": {\"backgroundcolor\": \"#E5ECF6\", \"gridcolor\": \"white\", \"gridwidth\": 2, \"linecolor\": \"white\", \"showbackground\": true, \"ticks\": \"\", \"zerolinecolor\": \"white\"}, \"yaxis\": {\"backgroundcolor\": \"#E5ECF6\", \"gridcolor\": \"white\", \"gridwidth\": 2, \"linecolor\": \"white\", \"showbackground\": true, \"ticks\": \"\", \"zerolinecolor\": \"white\"}, \"zaxis\": {\"backgroundcolor\": \"#E5ECF6\", \"gridcolor\": \"white\", \"gridwidth\": 2, \"linecolor\": \"white\", \"showbackground\": true, \"ticks\": \"\", \"zerolinecolor\": \"white\"}}, \"shapedefaults\": {\"line\": {\"color\": \"#2a3f5f\"}}, \"ternary\": {\"aaxis\": {\"gridcolor\": \"white\", \"linecolor\": \"white\", \"ticks\": \"\"}, \"baxis\": {\"gridcolor\": \"white\", \"linecolor\": \"white\", \"ticks\": \"\"}, \"bgcolor\": \"#E5ECF6\", \"caxis\": {\"gridcolor\": \"white\", \"linecolor\": \"white\", \"ticks\": \"\"}}, \"title\": {\"x\": 0.05}, \"xaxis\": {\"automargin\": true, \"gridcolor\": \"white\", \"linecolor\": \"white\", \"ticks\": \"\", \"title\": {\"standoff\": 15}, \"zerolinecolor\": \"white\", \"zerolinewidth\": 2}, \"yaxis\": {\"automargin\": true, \"gridcolor\": \"white\", \"linecolor\": \"white\", \"ticks\": \"\", \"title\": {\"standoff\": 15}, \"zerolinecolor\": \"white\", \"zerolinewidth\": 2}}}},\n",
              "                        {\"responsive\": true}\n",
              "                    ).then(function(){\n",
              "                            \n",
              "var gd = document.getElementById('384d902c-66d7-40ef-8fe9-bc11fbf94897');\n",
              "var x = new MutationObserver(function (mutations, observer) {{\n",
              "        var display = window.getComputedStyle(gd).display;\n",
              "        if (!display || display === 'none') {{\n",
              "            console.log([gd, 'removed!']);\n",
              "            Plotly.purge(gd);\n",
              "            observer.disconnect();\n",
              "        }}\n",
              "}});\n",
              "\n",
              "// Listen for the removal of the full notebook cells\n",
              "var notebookContainer = gd.closest('#notebook-container');\n",
              "if (notebookContainer) {{\n",
              "    x.observe(notebookContainer, {childList: true});\n",
              "}}\n",
              "\n",
              "// Listen for the clearing of the current output cell\n",
              "var outputEl = gd.closest('.output');\n",
              "if (outputEl) {{\n",
              "    x.observe(outputEl, {childList: true});\n",
              "}}\n",
              "\n",
              "                        })\n",
              "                };\n",
              "                \n",
              "            </script>\n",
              "        </div>\n",
              "</body>\n",
              "</html>"
            ]
          },
          "metadata": {
            "tags": []
          }
        }
      ]
    },
    {
      "cell_type": "markdown",
      "metadata": {
        "id": "dqplP56lCM5M"
      },
      "source": [
        "#Feature Engineering"
      ]
    },
    {
      "cell_type": "markdown",
      "metadata": {
        "id": "6N5ECMNUhuVU"
      },
      "source": [
        "I have selected attributes with fewer missing values. Selected attributes are age, gender, located country, located state, and covid status respectively. \n",
        "Then converted every string record into lower case. Neither because of case sensitiveness same record will be counted as different."
      ]
    },
    {
      "cell_type": "code",
      "metadata": {
        "id": "TS23HYZgB-PH"
      },
      "source": [
        "selected_columns = df_2[[\"a\",\"g\",\"l_c\",\"l_s\",\"covid_status\"]]\n",
        "df = selected_columns.copy()\n",
        "df = df.apply(lambda x: x.str.lower() if(x.dtype == 'object') else x) #Converting all the string valus into lowercase"
      ],
      "execution_count": 65,
      "outputs": []
    },
    {
      "cell_type": "markdown",
      "metadata": {
        "id": "wYEZe-T1jTDx"
      },
      "source": [
        "The task of this problem was to classify whether a patient is covid affected or not. So, I have used the map function to transform multi-class labels into binary classes."
      ]
    },
    {
      "cell_type": "code",
      "metadata": {
        "id": "7llphPWsDAvT"
      },
      "source": [
        "# Map alphabetical label into neumerical label\n",
        "df[\"covid_status\"]= df[\"covid_status\"].map({'healthy':0,'positive_mild':1,'no_resp_illness_expoed':0,'resp_illness_not_identified':0,'recovered_full':0,'positive_moderate':1,'positive_asymp':1})\n",
        "#"
      ],
      "execution_count": 66,
      "outputs": []
    },
    {
      "cell_type": "code",
      "metadata": {
        "colab": {
          "base_uri": "https://localhost:8080/",
          "height": 621
        },
        "id": "Eb5h6V6iDDXX",
        "outputId": "61c784c9-631e-4197-995e-8401b9e735d2"
      },
      "source": [
        "#Show newly mapped label\n",
        "a4_dims = (20.7, 8.27)\n",
        "fig, ax = plt.subplots(figsize=a4_dims)\n",
        "sns.countplot('covid_status',ax=ax, data =df)\n"
      ],
      "execution_count": 67,
      "outputs": [
        {
          "output_type": "stream",
          "text": [
            "/usr/local/lib/python3.7/dist-packages/seaborn/_decorators.py:43: FutureWarning:\n",
            "\n",
            "Pass the following variable as a keyword arg: x. From version 0.12, the only valid positional argument will be `data`, and passing other arguments without an explicit keyword will result in an error or misinterpretation.\n",
            "\n"
          ],
          "name": "stderr"
        },
        {
          "output_type": "execute_result",
          "data": {
            "text/plain": [
              "<matplotlib.axes._subplots.AxesSubplot at 0x7f9962d33e90>"
            ]
          },
          "metadata": {
            "tags": []
          },
          "execution_count": 67
        },
        {
          "output_type": "display_data",
          "data": {
            "image/png": "[encoded data removed]",
            "text/plain": [
              "<Figure size 1490.4x595.44 with 1 Axes>"
            ]
          },
          "metadata": {
            "tags": []
          }
        }
      ]
    },
    {
      "cell_type": "code",
      "metadata": {
        "colab": {
          "base_uri": "https://localhost:8080/"
        },
        "id": "d_FQtuHeDPy1",
        "outputId": "db65a628-fbb5-4d3a-baf6-fbf38fe2f691"
      },
      "source": [
        "#Drop missing Data\n",
        "df.dropna(axis=0, inplace=True)\n",
        "print(df.isnull().sum())\n",
        "print('\\n')\n",
        "\n",
        "print(\"2. Unique values per atribute\")\n",
        "for col in df.columns:\n",
        "  print(col, ':' , len(df[col].unique()), 'class')"
      ],
      "execution_count": 68,
      "outputs": [
        {
          "output_type": "stream",
          "text": [
            "a               0\n",
            "g               0\n",
            "l_c             0\n",
            "l_s             0\n",
            "covid_status    0\n",
            "dtype: int64\n",
            "\n",
            "\n",
            "2. Unique values per atribute\n",
            "a : 78 class\n",
            "g : 3 class\n",
            "l_c : 43 class\n",
            "l_s : 132 class\n",
            "covid_status : 2 class\n"
          ],
          "name": "stdout"
        }
      ]
    },
    {
      "cell_type": "markdown",
      "metadata": {
        "id": "b4erRmUrkxdm"
      },
      "source": [
        " MultiColumnLabelEncoder method transforms strings into label encoded representation."
      ]
    },
    {
      "cell_type": "code",
      "metadata": {
        "colab": {
          "base_uri": "https://localhost:8080/",
          "height": 406
        },
        "id": "ZExs9NXaEXai",
        "outputId": "af1e9b61-e4d7-4280-8a0c-d0616b8c3262"
      },
      "source": [
        "#Method for Encoding Features\n",
        " \n",
        "#from sklearn.pipeline import Pipeline\n",
        " \n",
        " \n",
        "class MultiColumnLabelEncoder:\n",
        "    def __init__(self,columns = None):\n",
        "        self.columns = columns # array of column names to encode\n",
        " \n",
        "    def fit(self,X,y=None):\n",
        "        return self \n",
        " \n",
        "    def transform(self,X):\n",
        "        \n",
        "        output = X.copy()\n",
        "        if self.columns is not None:\n",
        "            for col in self.columns:\n",
        "                output[col] = LabelEncoder().fit_transform(output[col])\n",
        "        else:\n",
        "            for colname,col in output.iteritems():\n",
        "                output[colname] = LabelEncoder().fit_transform(col)\n",
        "        return output\n",
        " \n",
        "    def fit_transform(self,X,y=None):\n",
        "        return self.fit(X,y).transform(X)  \n",
        " \n",
        "#Call \n",
        "MultiColumnLabelEncoder(columns = [\"g\",\"l_c\",\"l_s\"]).fit_transform(df)"
      ],
      "execution_count": 69,
      "outputs": [
        {
          "output_type": "execute_result",
          "data": {
            "text/html": [
              "<div>\n",
              "<style scoped>\n",
              "    .dataframe tbody tr th:only-of-type {\n",
              "        vertical-align: middle;\n",
              "    }\n",
              "\n",
              "    .dataframe tbody tr th {\n",
              "        vertical-align: top;\n",
              "    }\n",
              "\n",
              "    .dataframe thead th {\n",
              "        text-align: right;\n",
              "    }\n",
              "</style>\n",
              "<table border=\"1\" class=\"dataframe\">\n",
              "  <thead>\n",
              "    <tr style=\"text-align: right;\">\n",
              "      <th></th>\n",
              "      <th>a</th>\n",
              "      <th>g</th>\n",
              "      <th>l_c</th>\n",
              "      <th>l_s</th>\n",
              "      <th>covid_status</th>\n",
              "    </tr>\n",
              "  </thead>\n",
              "  <tbody>\n",
              "    <tr>\n",
              "      <th>0</th>\n",
              "      <td>28</td>\n",
              "      <td>1</td>\n",
              "      <td>15</td>\n",
              "      <td>10</td>\n",
              "      <td>0.0</td>\n",
              "    </tr>\n",
              "    <tr>\n",
              "      <th>1</th>\n",
              "      <td>25</td>\n",
              "      <td>1</td>\n",
              "      <td>15</td>\n",
              "      <td>70</td>\n",
              "      <td>0.0</td>\n",
              "    </tr>\n",
              "    <tr>\n",
              "      <th>2</th>\n",
              "      <td>28</td>\n",
              "      <td>0</td>\n",
              "      <td>41</td>\n",
              "      <td>102</td>\n",
              "      <td>0.0</td>\n",
              "    </tr>\n",
              "    <tr>\n",
              "      <th>3</th>\n",
              "      <td>26</td>\n",
              "      <td>1</td>\n",
              "      <td>15</td>\n",
              "      <td>70</td>\n",
              "      <td>0.0</td>\n",
              "    </tr>\n",
              "    <tr>\n",
              "      <th>4</th>\n",
              "      <td>32</td>\n",
              "      <td>1</td>\n",
              "      <td>15</td>\n",
              "      <td>20</td>\n",
              "      <td>0.0</td>\n",
              "    </tr>\n",
              "    <tr>\n",
              "      <th>...</th>\n",
              "      <td>...</td>\n",
              "      <td>...</td>\n",
              "      <td>...</td>\n",
              "      <td>...</td>\n",
              "      <td>...</td>\n",
              "    </tr>\n",
              "    <tr>\n",
              "      <th>1942</th>\n",
              "      <td>48</td>\n",
              "      <td>1</td>\n",
              "      <td>15</td>\n",
              "      <td>113</td>\n",
              "      <td>1.0</td>\n",
              "    </tr>\n",
              "    <tr>\n",
              "      <th>1943</th>\n",
              "      <td>36</td>\n",
              "      <td>1</td>\n",
              "      <td>15</td>\n",
              "      <td>70</td>\n",
              "      <td>1.0</td>\n",
              "    </tr>\n",
              "    <tr>\n",
              "      <th>1944</th>\n",
              "      <td>76</td>\n",
              "      <td>1</td>\n",
              "      <td>15</td>\n",
              "      <td>113</td>\n",
              "      <td>1.0</td>\n",
              "    </tr>\n",
              "    <tr>\n",
              "      <th>1945</th>\n",
              "      <td>25</td>\n",
              "      <td>1</td>\n",
              "      <td>15</td>\n",
              "      <td>113</td>\n",
              "      <td>1.0</td>\n",
              "    </tr>\n",
              "    <tr>\n",
              "      <th>1946</th>\n",
              "      <td>78</td>\n",
              "      <td>0</td>\n",
              "      <td>15</td>\n",
              "      <td>70</td>\n",
              "      <td>1.0</td>\n",
              "    </tr>\n",
              "  </tbody>\n",
              "</table>\n",
              "<p>1790 rows × 5 columns</p>\n",
              "</div>"
            ],
            "text/plain": [
              "       a  g  l_c  l_s  covid_status\n",
              "0     28  1   15   10           0.0\n",
              "1     25  1   15   70           0.0\n",
              "2     28  0   41  102           0.0\n",
              "3     26  1   15   70           0.0\n",
              "4     32  1   15   20           0.0\n",
              "...   .. ..  ...  ...           ...\n",
              "1942  48  1   15  113           1.0\n",
              "1943  36  1   15   70           1.0\n",
              "1944  76  1   15  113           1.0\n",
              "1945  25  1   15  113           1.0\n",
              "1946  78  0   15   70           1.0\n",
              "\n",
              "[1790 rows x 5 columns]"
            ]
          },
          "metadata": {
            "tags": []
          },
          "execution_count": 69
        }
      ]
    },
    {
      "cell_type": "code",
      "metadata": {
        "colab": {
          "base_uri": "https://localhost:8080/",
          "height": 322
        },
        "id": "kxoeUD_tEqqa",
        "outputId": "2358c6cb-3421-4683-e001-546b43b7da33"
      },
      "source": [
        "#Converting all datatype into float32\n",
        "df = pd.DataFrame({col: df[col].astype('category').cat.codes.astype('float32') for col in df}, index=df.index)\n",
        "print(df.dtypes)\n",
        "print(\"/\")\n",
        " \n",
        "df.head()"
      ],
      "execution_count": 70,
      "outputs": [
        {
          "output_type": "stream",
          "text": [
            "a               float32\n",
            "g               float32\n",
            "l_c             float32\n",
            "l_s             float32\n",
            "covid_status    float32\n",
            "dtype: object\n",
            "/\n"
          ],
          "name": "stdout"
        },
        {
          "output_type": "execute_result",
          "data": {
            "text/html": [
              "<div>\n",
              "<style scoped>\n",
              "    .dataframe tbody tr th:only-of-type {\n",
              "        vertical-align: middle;\n",
              "    }\n",
              "\n",
              "    .dataframe tbody tr th {\n",
              "        vertical-align: top;\n",
              "    }\n",
              "\n",
              "    .dataframe thead th {\n",
              "        text-align: right;\n",
              "    }\n",
              "</style>\n",
              "<table border=\"1\" class=\"dataframe\">\n",
              "  <thead>\n",
              "    <tr style=\"text-align: right;\">\n",
              "      <th></th>\n",
              "      <th>a</th>\n",
              "      <th>g</th>\n",
              "      <th>l_c</th>\n",
              "      <th>l_s</th>\n",
              "      <th>covid_status</th>\n",
              "    </tr>\n",
              "  </thead>\n",
              "  <tbody>\n",
              "    <tr>\n",
              "      <th>0</th>\n",
              "      <td>22.0</td>\n",
              "      <td>1.0</td>\n",
              "      <td>15.0</td>\n",
              "      <td>10.0</td>\n",
              "      <td>0.0</td>\n",
              "    </tr>\n",
              "    <tr>\n",
              "      <th>1</th>\n",
              "      <td>19.0</td>\n",
              "      <td>1.0</td>\n",
              "      <td>15.0</td>\n",
              "      <td>70.0</td>\n",
              "      <td>0.0</td>\n",
              "    </tr>\n",
              "    <tr>\n",
              "      <th>2</th>\n",
              "      <td>22.0</td>\n",
              "      <td>0.0</td>\n",
              "      <td>41.0</td>\n",
              "      <td>102.0</td>\n",
              "      <td>0.0</td>\n",
              "    </tr>\n",
              "    <tr>\n",
              "      <th>3</th>\n",
              "      <td>20.0</td>\n",
              "      <td>1.0</td>\n",
              "      <td>15.0</td>\n",
              "      <td>70.0</td>\n",
              "      <td>0.0</td>\n",
              "    </tr>\n",
              "    <tr>\n",
              "      <th>4</th>\n",
              "      <td>26.0</td>\n",
              "      <td>1.0</td>\n",
              "      <td>15.0</td>\n",
              "      <td>20.0</td>\n",
              "      <td>0.0</td>\n",
              "    </tr>\n",
              "  </tbody>\n",
              "</table>\n",
              "</div>"
            ],
            "text/plain": [
              "      a    g   l_c    l_s  covid_status\n",
              "0  22.0  1.0  15.0   10.0           0.0\n",
              "1  19.0  1.0  15.0   70.0           0.0\n",
              "2  22.0  0.0  41.0  102.0           0.0\n",
              "3  20.0  1.0  15.0   70.0           0.0\n",
              "4  26.0  1.0  15.0   20.0           0.0"
            ]
          },
          "metadata": {
            "tags": []
          },
          "execution_count": 70
        }
      ]
    },
    {
      "cell_type": "markdown",
      "metadata": {
        "id": "fElEBXa8Grsw"
      },
      "source": [
        "#Model Building and Evaluating"
      ]
    },
    {
      "cell_type": "code",
      "metadata": {
        "colab": {
          "base_uri": "https://localhost:8080/"
        },
        "id": "zJl7A-OEE1gI",
        "outputId": "ee06e204-bd16-42a5-eec1-9e4cf2582a37"
      },
      "source": [
        "#Splitting data into train test \n",
        "X_train, X_test, y_train, y_test = train_test_split(scale(df.drop('covid_status', axis = 1)),df['covid_status'], test_size = 0.33, random_state = 178)\n",
        "\n",
        "y_train = np_utils.to_categorical(y_train) #One hot for two neuron"
      ],
      "execution_count": 83,
      "outputs": [
        {
          "output_type": "stream",
          "text": [
            "/usr/local/lib/python3.7/dist-packages/sklearn/preprocessing/_data.py:173: UserWarning:\n",
            "\n",
            "Numerical issues were encountered when centering the data and might not be solved. Dataset may contain too large values. You may need to prescale your features.\n",
            "\n",
            "/usr/local/lib/python3.7/dist-packages/sklearn/preprocessing/_data.py:190: UserWarning:\n",
            "\n",
            "Numerical issues were encountered when scaling the data and might not be solved. The standard deviation of the data is probably very close to 0. \n",
            "\n"
          ],
          "name": "stderr"
        }
      ]
    },
    {
      "cell_type": "code",
      "metadata": {
        "colab": {
          "base_uri": "https://localhost:8080/"
        },
        "id": "qxx8kPBOFN2F",
        "outputId": "30520e7e-192c-4837-9f3b-179595e320d8"
      },
      "source": [
        "#Defining neural network model\n",
        "model = Sequential()\n",
        " \n",
        "#one Input layer with 12 Neurons\n",
        "model.add(Dense(12, input_dim = 4, activation='relu') )\n",
        " \n",
        "#one Hidden Layer with 4 Neurons\n",
        "model.add(Dense(4, activation='relu') )\n",
        " \n",
        "#one Output layer with 2 Neurons\n",
        "model.add(Dense(2, activation='sigmoid'))\n",
        " \n",
        "#Compiling model\n",
        "model.compile(loss ='binary_crossentropy', optimizer = 'adam', metrics=['accuracy'])\n",
        " \n",
        "#Training the model\n",
        "model.fit(X_train, y_train, epochs = 100, batch_size=300)"
      ],
      "execution_count": 99,
      "outputs": [
        {
          "output_type": "stream",
          "text": [
            "Epoch 1/100\n",
            "4/4 [==============================] - 1s 3ms/step - loss: 0.7155 - accuracy: 0.4875\n",
            "Epoch 2/100\n",
            "4/4 [==============================] - 0s 4ms/step - loss: 0.7000 - accuracy: 0.5298\n",
            "Epoch 3/100\n",
            "4/4 [==============================] - 0s 2ms/step - loss: 0.6898 - accuracy: 0.5793\n",
            "Epoch 4/100\n",
            "4/4 [==============================] - 0s 4ms/step - loss: 0.6796 - accuracy: 0.6533\n",
            "Epoch 5/100\n",
            "4/4 [==============================] - 0s 3ms/step - loss: 0.6701 - accuracy: 0.6759\n",
            "Epoch 6/100\n",
            "4/4 [==============================] - 0s 3ms/step - loss: 0.6552 - accuracy: 0.7093\n",
            "Epoch 7/100\n",
            "4/4 [==============================] - 0s 3ms/step - loss: 0.6455 - accuracy: 0.7259\n",
            "Epoch 8/100\n",
            "4/4 [==============================] - 0s 3ms/step - loss: 0.6384 - accuracy: 0.7451\n",
            "Epoch 9/100\n",
            "4/4 [==============================] - 0s 3ms/step - loss: 0.6285 - accuracy: 0.7578\n",
            "Epoch 10/100\n",
            "4/4 [==============================] - 0s 3ms/step - loss: 0.6176 - accuracy: 0.7730\n",
            "Epoch 11/100\n",
            "4/4 [==============================] - 0s 3ms/step - loss: 0.6150 - accuracy: 0.7737\n",
            "Epoch 12/100\n",
            "4/4 [==============================] - 0s 3ms/step - loss: 0.6086 - accuracy: 0.7915\n",
            "Epoch 13/100\n",
            "4/4 [==============================] - 0s 3ms/step - loss: 0.5991 - accuracy: 0.7999\n",
            "Epoch 14/100\n",
            "4/4 [==============================] - 0s 3ms/step - loss: 0.5937 - accuracy: 0.8080\n",
            "Epoch 15/100\n",
            "4/4 [==============================] - 0s 3ms/step - loss: 0.5907 - accuracy: 0.8226\n",
            "Epoch 16/100\n",
            "4/4 [==============================] - 0s 3ms/step - loss: 0.5830 - accuracy: 0.8147\n",
            "Epoch 17/100\n",
            "4/4 [==============================] - 0s 3ms/step - loss: 0.5822 - accuracy: 0.8176\n",
            "Epoch 18/100\n",
            "4/4 [==============================] - 0s 3ms/step - loss: 0.5752 - accuracy: 0.8106\n",
            "Epoch 19/100\n",
            "4/4 [==============================] - 0s 3ms/step - loss: 0.5785 - accuracy: 0.8116\n",
            "Epoch 20/100\n",
            "4/4 [==============================] - 0s 4ms/step - loss: 0.5636 - accuracy: 0.8283\n",
            "Epoch 21/100\n",
            "4/4 [==============================] - 0s 4ms/step - loss: 0.5627 - accuracy: 0.8246\n",
            "Epoch 22/100\n",
            "4/4 [==============================] - 0s 4ms/step - loss: 0.5634 - accuracy: 0.8167\n",
            "Epoch 23/100\n",
            "4/4 [==============================] - 0s 3ms/step - loss: 0.5602 - accuracy: 0.8075\n",
            "Epoch 24/100\n",
            "4/4 [==============================] - 0s 4ms/step - loss: 0.5450 - accuracy: 0.8354\n",
            "Epoch 25/100\n",
            "4/4 [==============================] - 0s 2ms/step - loss: 0.5461 - accuracy: 0.8311\n",
            "Epoch 26/100\n",
            "4/4 [==============================] - 0s 4ms/step - loss: 0.5449 - accuracy: 0.8254\n",
            "Epoch 27/100\n",
            "4/4 [==============================] - 0s 3ms/step - loss: 0.5388 - accuracy: 0.8227\n",
            "Epoch 28/100\n",
            "4/4 [==============================] - 0s 4ms/step - loss: 0.5396 - accuracy: 0.8178\n",
            "Epoch 29/100\n",
            "4/4 [==============================] - 0s 3ms/step - loss: 0.5302 - accuracy: 0.8237\n",
            "Epoch 30/100\n",
            "4/4 [==============================] - 0s 4ms/step - loss: 0.5255 - accuracy: 0.8197\n",
            "Epoch 31/100\n",
            "4/4 [==============================] - 0s 4ms/step - loss: 0.5262 - accuracy: 0.8221\n",
            "Epoch 32/100\n",
            "4/4 [==============================] - 0s 3ms/step - loss: 0.5211 - accuracy: 0.8217\n",
            "Epoch 33/100\n",
            "4/4 [==============================] - 0s 3ms/step - loss: 0.5263 - accuracy: 0.8178\n",
            "Epoch 34/100\n",
            "4/4 [==============================] - 0s 4ms/step - loss: 0.5136 - accuracy: 0.8226\n",
            "Epoch 35/100\n",
            "4/4 [==============================] - 0s 6ms/step - loss: 0.5098 - accuracy: 0.8181\n",
            "Epoch 36/100\n",
            "4/4 [==============================] - 0s 4ms/step - loss: 0.5173 - accuracy: 0.8222\n",
            "Epoch 37/100\n",
            "4/4 [==============================] - 0s 5ms/step - loss: 0.5005 - accuracy: 0.8284\n",
            "Epoch 38/100\n",
            "4/4 [==============================] - 0s 3ms/step - loss: 0.5024 - accuracy: 0.8222\n",
            "Epoch 39/100\n",
            "4/4 [==============================] - 0s 3ms/step - loss: 0.4930 - accuracy: 0.8276\n",
            "Epoch 40/100\n",
            "4/4 [==============================] - 0s 3ms/step - loss: 0.4844 - accuracy: 0.8359\n",
            "Epoch 41/100\n",
            "4/4 [==============================] - 0s 5ms/step - loss: 0.4880 - accuracy: 0.8289\n",
            "Epoch 42/100\n",
            "4/4 [==============================] - 0s 4ms/step - loss: 0.4933 - accuracy: 0.8192\n",
            "Epoch 43/100\n",
            "4/4 [==============================] - 0s 4ms/step - loss: 0.4791 - accuracy: 0.8288\n",
            "Epoch 44/100\n",
            "4/4 [==============================] - 0s 4ms/step - loss: 0.4928 - accuracy: 0.8193\n",
            "Epoch 45/100\n",
            "4/4 [==============================] - 0s 4ms/step - loss: 0.4697 - accuracy: 0.8382\n",
            "Epoch 46/100\n",
            "4/4 [==============================] - 0s 3ms/step - loss: 0.4766 - accuracy: 0.8194\n",
            "Epoch 47/100\n",
            "4/4 [==============================] - 0s 3ms/step - loss: 0.4783 - accuracy: 0.8253\n",
            "Epoch 48/100\n",
            "4/4 [==============================] - 0s 3ms/step - loss: 0.4760 - accuracy: 0.8267\n",
            "Epoch 49/100\n",
            "4/4 [==============================] - 0s 3ms/step - loss: 0.4664 - accuracy: 0.8275\n",
            "Epoch 50/100\n",
            "4/4 [==============================] - 0s 3ms/step - loss: 0.4841 - accuracy: 0.8127\n",
            "Epoch 51/100\n",
            "4/4 [==============================] - 0s 3ms/step - loss: 0.4586 - accuracy: 0.8241\n",
            "Epoch 52/100\n",
            "4/4 [==============================] - 0s 3ms/step - loss: 0.4559 - accuracy: 0.8286\n",
            "Epoch 53/100\n",
            "4/4 [==============================] - 0s 4ms/step - loss: 0.4582 - accuracy: 0.8205\n",
            "Epoch 54/100\n",
            "4/4 [==============================] - 0s 3ms/step - loss: 0.4751 - accuracy: 0.8208\n",
            "Epoch 55/100\n",
            "4/4 [==============================] - 0s 3ms/step - loss: 0.4606 - accuracy: 0.8246\n",
            "Epoch 56/100\n",
            "4/4 [==============================] - 0s 4ms/step - loss: 0.4584 - accuracy: 0.8209\n",
            "Epoch 57/100\n",
            "4/4 [==============================] - 0s 3ms/step - loss: 0.4591 - accuracy: 0.8188\n",
            "Epoch 58/100\n",
            "4/4 [==============================] - 0s 3ms/step - loss: 0.4662 - accuracy: 0.8178\n",
            "Epoch 59/100\n",
            "4/4 [==============================] - 0s 4ms/step - loss: 0.4719 - accuracy: 0.8105\n",
            "Epoch 60/100\n",
            "4/4 [==============================] - 0s 3ms/step - loss: 0.4511 - accuracy: 0.8295\n",
            "Epoch 61/100\n",
            "4/4 [==============================] - 0s 3ms/step - loss: 0.4597 - accuracy: 0.8213\n",
            "Epoch 62/100\n",
            "4/4 [==============================] - 0s 3ms/step - loss: 0.4577 - accuracy: 0.8225\n",
            "Epoch 63/100\n",
            "4/4 [==============================] - 0s 4ms/step - loss: 0.4565 - accuracy: 0.8222\n",
            "Epoch 64/100\n",
            "4/4 [==============================] - 0s 6ms/step - loss: 0.4555 - accuracy: 0.8235\n",
            "Epoch 65/100\n",
            "4/4 [==============================] - 0s 3ms/step - loss: 0.4479 - accuracy: 0.8248\n",
            "Epoch 66/100\n",
            "4/4 [==============================] - 0s 3ms/step - loss: 0.4458 - accuracy: 0.8291\n",
            "Epoch 67/100\n",
            "4/4 [==============================] - 0s 4ms/step - loss: 0.4484 - accuracy: 0.8269\n",
            "Epoch 68/100\n",
            "4/4 [==============================] - 0s 3ms/step - loss: 0.4423 - accuracy: 0.8282\n",
            "Epoch 69/100\n",
            "4/4 [==============================] - 0s 3ms/step - loss: 0.4321 - accuracy: 0.8279\n",
            "Epoch 70/100\n",
            "4/4 [==============================] - 0s 4ms/step - loss: 0.4511 - accuracy: 0.8175\n",
            "Epoch 71/100\n",
            "4/4 [==============================] - 0s 6ms/step - loss: 0.4242 - accuracy: 0.8451\n",
            "Epoch 72/100\n",
            "4/4 [==============================] - 0s 4ms/step - loss: 0.4496 - accuracy: 0.8214\n",
            "Epoch 73/100\n",
            "4/4 [==============================] - 0s 4ms/step - loss: 0.4475 - accuracy: 0.8226\n",
            "Epoch 74/100\n",
            "4/4 [==============================] - 0s 5ms/step - loss: 0.4329 - accuracy: 0.8262\n",
            "Epoch 75/100\n",
            "4/4 [==============================] - 0s 3ms/step - loss: 0.4439 - accuracy: 0.8286\n",
            "Epoch 76/100\n",
            "4/4 [==============================] - 0s 4ms/step - loss: 0.4441 - accuracy: 0.8292\n",
            "Epoch 77/100\n",
            "4/4 [==============================] - 0s 3ms/step - loss: 0.4469 - accuracy: 0.8251\n",
            "Epoch 78/100\n",
            "4/4 [==============================] - 0s 4ms/step - loss: 0.4458 - accuracy: 0.8243\n",
            "Epoch 79/100\n",
            "4/4 [==============================] - 0s 4ms/step - loss: 0.4404 - accuracy: 0.8309\n",
            "Epoch 80/100\n",
            "4/4 [==============================] - 0s 4ms/step - loss: 0.4344 - accuracy: 0.8326\n",
            "Epoch 81/100\n",
            "4/4 [==============================] - 0s 3ms/step - loss: 0.4506 - accuracy: 0.8308\n",
            "Epoch 82/100\n",
            "4/4 [==============================] - 0s 3ms/step - loss: 0.4503 - accuracy: 0.8266\n",
            "Epoch 83/100\n",
            "4/4 [==============================] - 0s 3ms/step - loss: 0.4378 - accuracy: 0.8345\n",
            "Epoch 84/100\n",
            "4/4 [==============================] - 0s 3ms/step - loss: 0.4458 - accuracy: 0.8277\n",
            "Epoch 85/100\n",
            "4/4 [==============================] - 0s 3ms/step - loss: 0.4297 - accuracy: 0.8292\n",
            "Epoch 86/100\n",
            "4/4 [==============================] - 0s 3ms/step - loss: 0.4377 - accuracy: 0.8323\n",
            "Epoch 87/100\n",
            "4/4 [==============================] - 0s 3ms/step - loss: 0.4300 - accuracy: 0.8335\n",
            "Epoch 88/100\n",
            "4/4 [==============================] - 0s 3ms/step - loss: 0.4509 - accuracy: 0.8218\n",
            "Epoch 89/100\n",
            "4/4 [==============================] - 0s 4ms/step - loss: 0.4134 - accuracy: 0.8498\n",
            "Epoch 90/100\n",
            "4/4 [==============================] - 0s 4ms/step - loss: 0.4285 - accuracy: 0.8371\n",
            "Epoch 91/100\n",
            "4/4 [==============================] - 0s 3ms/step - loss: 0.4289 - accuracy: 0.8319\n",
            "Epoch 92/100\n",
            "4/4 [==============================] - 0s 4ms/step - loss: 0.4470 - accuracy: 0.8248\n",
            "Epoch 93/100\n",
            "4/4 [==============================] - 0s 3ms/step - loss: 0.4289 - accuracy: 0.8314\n",
            "Epoch 94/100\n",
            "4/4 [==============================] - 0s 3ms/step - loss: 0.4235 - accuracy: 0.8404\n",
            "Epoch 95/100\n",
            "4/4 [==============================] - 0s 3ms/step - loss: 0.4424 - accuracy: 0.8297\n",
            "Epoch 96/100\n",
            "4/4 [==============================] - 0s 2ms/step - loss: 0.4323 - accuracy: 0.8299\n",
            "Epoch 97/100\n",
            "4/4 [==============================] - 0s 5ms/step - loss: 0.4411 - accuracy: 0.8243\n",
            "Epoch 98/100\n",
            "4/4 [==============================] - 0s 4ms/step - loss: 0.4402 - accuracy: 0.8256\n",
            "Epoch 99/100\n",
            "4/4 [==============================] - 0s 3ms/step - loss: 0.4384 - accuracy: 0.8295\n",
            "Epoch 100/100\n",
            "4/4 [==============================] - 0s 4ms/step - loss: 0.4284 - accuracy: 0.8393\n"
          ],
          "name": "stdout"
        },
        {
          "output_type": "execute_result",
          "data": {
            "text/plain": [
              "<keras.callbacks.History at 0x7f9956d21a90>"
            ]
          },
          "metadata": {
            "tags": []
          },
          "execution_count": 99
        }
      ]
    },
    {
      "cell_type": "code",
      "metadata": {
        "colab": {
          "base_uri": "https://localhost:8080/"
        },
        "id": "4znigYkfF2sM",
        "outputId": "121449f8-f5ad-4350-def5-4c768f08af92"
      },
      "source": [
        "#Prediction and Evaluation\n",
        "from sklearn.metrics import accuracy_score\n",
        "y_pred = model.predict(X_test)\n",
        "y_pred = np.argmax(y_pred, axis=1)\n",
        "accuracy_score(y_test, y_pred)"
      ],
      "execution_count": 100,
      "outputs": [
        {
          "output_type": "execute_result",
          "data": {
            "text/plain": [
              "0.8595600676818951"
            ]
          },
          "metadata": {
            "tags": []
          },
          "execution_count": 100
        }
      ]
    },
    {
      "cell_type": "markdown",
      "metadata": {
        "id": "sK4E56dTG2Gg"
      },
      "source": [
        "**Finally, The Accuracy score is 85.95%**"
      ]
    },
    {
      "cell_type": "markdown",
      "metadata": {
        "id": "TsO8irmyqNtM"
      },
      "source": [
        "# About Applicant\n",
        "\n",
        "*   Internshala Name: Taufiqul Haque Khan Tusar\n",
        "*   GitHub: https://github.com/Muhammad-Taufiq-Khan\n",
        "*   Applied for: Deep Learning Research internship at Pucho Life Sciences Incorporation.\n",
        "\n",
        "\n",
        "\n",
        "\n",
        "\n",
        "\n"
      ]
    }
  ]
}